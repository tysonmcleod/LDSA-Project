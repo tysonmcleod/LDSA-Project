{
 "cells": [
  {
   "cell_type": "markdown",
   "metadata": {},
   "source": [
    "# LDAS: Project - Team 2\n",
    "Moritz Eck, moritz.eck.0055@student.uu.se<br>\n",
    "Tyson McLeod, <br>\n",
    "Isaline Baret, <br>\n",
    "Markella-Achilleia Zacharouli, <br>"
   ]
  },
  {
   "cell_type": "markdown",
   "metadata": {},
   "source": [
    "## Setup & Deploy"
   ]
  },
  {
   "cell_type": "code",
   "execution_count": 2,
   "metadata": {},
   "outputs": [],
   "source": [
    "from pyspark.sql import SparkSession\n",
    "import matplotlib.pyplot as plt\n",
    "import time"
   ]
  },
  {
   "cell_type": "code",
   "execution_count": 3,
   "metadata": {},
   "outputs": [],
   "source": [
    "# start your application with dynamic allocation enabled, a timeout of no more than 30 seconds and a cap on CPU cores:\n",
    "# REMOTE SESSION\n",
    "# spark = SparkSession\\\n",
    "#        .builder\\\n",
    "#        .master(\"spark://192.168.1.153:7077\") \\\n",
    "#        .appName(\"LDSA_Team2_Project\")\\\n",
    "#        .config(\"spark.dynamicAllocation.enabled\", True)\\\n",
    "#        .config(\"spark.shuffle.service.enabled\", True)\\\n",
    "#        .config(\"spark.dynamicAllocation.executorIdleTimeout\",\"30s\")\\\n",
    "#        .config(\"spark.dynamicAllocation.maxExecutors\", 8)\\\n",
    "# #.config(\"spark.executor.instances\", 8)\\ # set this to 1 if you want to compare remote execution with local.\n",
    "#        .config(\"spark.executor.cores\",8)\\\n",
    "#        .config('spark.executor.memory', \"8g\")\\\n",
    "#        .config(\"spark.driver.cores\", 2)\\\n",
    "#        .config(\"spark.driver.memory\", \"2g\")\\\n",
    "#        .config(\"spark.executor.heartbeatInterval\",\"5s\")\\\n",
    "#        .getOrCreate()\n",
    "\n",
    "# LOCAL SESSION\n",
    "spark = SparkSession\\\n",
    "    .builder.master(\"local[4]\")\\\n",
    "    .appName(\"LDSA_Team2_Project\")\\\n",
    "    .config(\"spark.executor.instances\", 1)\\\n",
    "    .config(\"spark.executor.cores\",4)\\\n",
    "    .config('spark.executor.memory', \"8g\")\\\n",
    "    .config(\"spark.driver.cores\", 2)\\\n",
    "    .config(\"spark.driver.memory\", \"2g\")\\\n",
    "    .config(\"spark.executor.heartbeatInterval\",\"5s\")\\\n",
    "    .getOrCreate()\n",
    "\n",
    "# spark context (old RDD)\n",
    "sc = spark.sparkContext"
   ]
  },
  {
   "cell_type": "code",
   "execution_count": 4,
   "metadata": {},
   "outputs": [],
   "source": [
    "sc.setLogLevel(\"INFO\")\n",
    "LOCAL = True # TODO: select if the experiment is run remote or local\n",
    "\n",
    "# filepaths\n",
    "REMOTE_HDFS_PATH = \"hdfs://192.168.1.153:9000/team02/input/\"\n",
    "LOCAL_PATH = \"./data/\"\n",
    "\n",
    "# filenames\n",
    "business_fn = \"yelp_academic_dataset_business.json\"\n",
    "users_fn = \"yelp_academic_dataset_users.json\"\n",
    "reviews_fn = \"yelp_academic_dataset_reviews.json\"\n",
    "reviews_fn = \"reviews_1000000.json\"\n",
    "\n",
    "# create the filepaths (remote or local)\n",
    "if LOCAL:\n",
    "    business_fp = LOCAL_PATH + business_fn\n",
    "    users_fp = LOCAL_PATH + users_fn\n",
    "    reviews_fp = LOCAL_PATH + reviews_fn\n",
    "else:\n",
    "    business_fp = REMOTE_HDFS_PATH + business_fn\n",
    "    users_fp = REMOTE_HDFS_PATH + users_fn\n",
    "    reviews_fp = REMOTE_HDFS_PATH + reviews_fn"
   ]
  },
  {
   "cell_type": "markdown",
   "metadata": {},
   "source": [
    "## Experiment 1: Business Data"
   ]
  },
  {
   "cell_type": "markdown",
   "metadata": {},
   "source": [
    "### Load and Preprocess Data"
   ]
  },
  {
   "cell_type": "code",
   "execution_count": 5,
   "metadata": {},
   "outputs": [
    {
     "name": "stdout",
     "output_type": "stream",
     "text": [
      "root\n",
      " |-- address: string (nullable = true)\n",
      " |-- attributes: struct (nullable = true)\n",
      " |    |-- AcceptsInsurance: string (nullable = true)\n",
      " |    |-- AgesAllowed: string (nullable = true)\n",
      " |    |-- Alcohol: string (nullable = true)\n",
      " |    |-- Ambience: string (nullable = true)\n",
      " |    |-- BYOB: string (nullable = true)\n",
      " |    |-- BYOBCorkage: string (nullable = true)\n",
      " |    |-- BestNights: string (nullable = true)\n",
      " |    |-- BikeParking: string (nullable = true)\n",
      " |    |-- BusinessAcceptsBitcoin: string (nullable = true)\n",
      " |    |-- BusinessAcceptsCreditCards: string (nullable = true)\n",
      " |    |-- BusinessParking: string (nullable = true)\n",
      " |    |-- ByAppointmentOnly: string (nullable = true)\n",
      " |    |-- Caters: string (nullable = true)\n",
      " |    |-- CoatCheck: string (nullable = true)\n",
      " |    |-- Corkage: string (nullable = true)\n",
      " |    |-- DietaryRestrictions: string (nullable = true)\n",
      " |    |-- DogsAllowed: string (nullable = true)\n",
      " |    |-- DriveThru: string (nullable = true)\n",
      " |    |-- GoodForDancing: string (nullable = true)\n",
      " |    |-- GoodForKids: string (nullable = true)\n",
      " |    |-- GoodForMeal: string (nullable = true)\n",
      " |    |-- HairSpecializesIn: string (nullable = true)\n",
      " |    |-- HappyHour: string (nullable = true)\n",
      " |    |-- HasTV: string (nullable = true)\n",
      " |    |-- Music: string (nullable = true)\n",
      " |    |-- NoiseLevel: string (nullable = true)\n",
      " |    |-- Open24Hours: string (nullable = true)\n",
      " |    |-- OutdoorSeating: string (nullable = true)\n",
      " |    |-- RestaurantsAttire: string (nullable = true)\n",
      " |    |-- RestaurantsCounterService: string (nullable = true)\n",
      " |    |-- RestaurantsDelivery: string (nullable = true)\n",
      " |    |-- RestaurantsGoodForGroups: string (nullable = true)\n",
      " |    |-- RestaurantsPriceRange2: string (nullable = true)\n",
      " |    |-- RestaurantsReservations: string (nullable = true)\n",
      " |    |-- RestaurantsTableService: string (nullable = true)\n",
      " |    |-- RestaurantsTakeOut: string (nullable = true)\n",
      " |    |-- Smoking: string (nullable = true)\n",
      " |    |-- WheelchairAccessible: string (nullable = true)\n",
      " |    |-- WiFi: string (nullable = true)\n",
      " |-- business_id: string (nullable = true)\n",
      " |-- categories: string (nullable = true)\n",
      " |-- city: string (nullable = true)\n",
      " |-- hours: struct (nullable = true)\n",
      " |    |-- Friday: string (nullable = true)\n",
      " |    |-- Monday: string (nullable = true)\n",
      " |    |-- Saturday: string (nullable = true)\n",
      " |    |-- Sunday: string (nullable = true)\n",
      " |    |-- Thursday: string (nullable = true)\n",
      " |    |-- Tuesday: string (nullable = true)\n",
      " |    |-- Wednesday: string (nullable = true)\n",
      " |-- is_open: long (nullable = true)\n",
      " |-- latitude: double (nullable = true)\n",
      " |-- longitude: double (nullable = true)\n",
      " |-- name: string (nullable = true)\n",
      " |-- postal_code: string (nullable = true)\n",
      " |-- review_count: long (nullable = true)\n",
      " |-- stars: double (nullable = true)\n",
      " |-- state: string (nullable = true)\n",
      "\n",
      "+--------------------+--------------------+--------------------+--------------------+-----------+--------------------+-------+-------------+---------------+--------------------+-----------+------------+-----+-----+\n",
      "|             address|          attributes|         business_id|          categories|       city|               hours|is_open|     latitude|      longitude|                name|postal_code|review_count|stars|state|\n",
      "+--------------------+--------------------+--------------------+--------------------+-----------+--------------------+-------+-------------+---------------+--------------------+-----------+------------+-----+-----+\n",
      "|2818 E Camino Ace...|[,,,,,,,,,,,,,,,,...|1SWheh84yJXfytovI...|   Golf, Active Life|    Phoenix|                null|      0|   33.5221425|   -112.0184807|Arizona Biltmore ...|      85016|           5|  3.0|   AZ|\n",
      "|30 Eglinton Avenue W|[,, u'full_bar', ...|QXAEGFB4oINsVuTFx...|Specialty Food, R...|Mississauga|[9:0-1:0, 9:0-0:0...|      1|43.6054989743|  -79.652288909|Emerald Chinese R...|    L5R 3E7|         128|  2.5|   ON|\n",
      "|10110 Johnston Rd...|[,, u'beer_and_wi...|gnKjwL_1w79qoiV3I...|Sushi Bars, Resta...|  Charlotte|[17:30-22:0, 17:3...|      1|    35.092564|     -80.859132|Musashi Japanese ...|      28210|         170|  4.0|   NC|\n",
      "|15655 W Roosevelt...|                null|xvX2CttrVhyG2z1dF...|Insurance, Financ...|   Goodyear|[8:0-17:0, 8:0-17...|      1|33.4556129678|-112.3955963552|Farmers Insurance...|      85338|           3|  5.0|   AZ|\n",
      "|4209 Stuart Andre...|[,,,,,,,, False, ...|HhyxOkGAM07SRYtlQ...|Plumbing, Shoppin...|  Charlotte|[7:0-23:0, 7:0-23...|      1|   35.1900119|    -80.8872232| Queen City Plumbing|      28217|           4|  4.0|   NC|\n",
      "+--------------------+--------------------+--------------------+--------------------+-----------+--------------------+-------+-------------+---------------+--------------------+-----------+------------+-----+-----+\n",
      "only showing top 5 rows\n",
      "\n"
     ]
    }
   ],
   "source": [
    "# read JSON file into PySpark dataframe\n",
    "business = spark.read.json(business_fp)\n",
    "\n",
    "# the inferred schema can be visualized using the printSchema() method\n",
    "business.printSchema()\n",
    "\n",
    "# show top 5 rows\n",
    "business.show(5)"
   ]
  },
  {
   "cell_type": "code",
   "execution_count": 6,
   "metadata": {},
   "outputs": [
    {
     "name": "stdout",
     "output_type": "stream",
     "text": [
      "Rows in Business Dataframe:\t 192609\n",
      "Number of Partitions:\t\t 4\n"
     ]
    }
   ],
   "source": [
    "# the number of rows\n",
    "print(\"Rows in Business Dataframe:\\t\", business.count())\n",
    "\n",
    "# the number of RDD partitions\n",
    "print(\"Number of Partitions:\\t\\t\", business.rdd.getNumPartitions())"
   ]
  },
  {
   "cell_type": "markdown",
   "metadata": {},
   "source": [
    "### Experiment 1: Sort all business according to stars and review_count"
   ]
  },
  {
   "cell_type": "code",
   "execution_count": null,
   "metadata": {},
   "outputs": [],
   "source": [
    "times = []\n",
    "for i in range(10):\n",
    "    # top businesses according to starts and review_count\n",
    "    start_time = time.time()\n",
    "    filtered = business.filter(business.stars >= 4.0).sort(\"stars\", \"review_count\", ascending=[0,0]).head(10)\n",
    "    end_time = time.time()\n",
    "\n",
    "    for row in filtered:\n",
    "        name, stars, rc = row[\"name\"], row[\"stars\"], row[\"review_count\"]\n",
    "        print(\"Name:\\t{},\\tStars:\\t{},\\tReview Count:\\t{}\".format(name[:12], stars, rc))\n",
    "        \n",
    "    delta = end_time - start_time\n",
    "    times.append(delta)\n",
    "    print(\"\\nThe evaluation took: {} seconds\".format(delta))\n",
    "    \n",
    "    # remove the storage and space\n",
    "    del filtered, delta\n",
    "    \n",
    "print(\"Average Time Taken: {}\".format(sum(times)/len(times)))"
   ]
  },
  {
   "cell_type": "code",
   "execution_count": null,
   "metadata": {},
   "outputs": [],
   "source": [
    "# removes the business dataframe (only do it if you need space)\n",
    "del business "
   ]
  },
  {
   "cell_type": "markdown",
   "metadata": {},
   "source": [
    "## Experiment 2: User Data"
   ]
  },
  {
   "cell_type": "markdown",
   "metadata": {},
   "source": [
    "### Load User Data & Preprocess"
   ]
  },
  {
   "cell_type": "code",
   "execution_count": null,
   "metadata": {},
   "outputs": [],
   "source": [
    "# LOCAL \n",
    "# read JSON file\n",
    "users = spark.read.json(users_fp)\n",
    "\n",
    "# the inferred schema can be visualized using the printSchema() method\n",
    "users.printSchema()\n",
    "\n",
    "# the number of rows\n",
    "print(\"Rows in Users Dataframe:\\t\", users.count())\n",
    "\n",
    "# the number of RDD partitions\n",
    "print(\"Number of Partitions:\\t\\t\", users.rdd.getNumPartitions())"
   ]
  },
  {
   "cell_type": "code",
   "execution_count": null,
   "metadata": {},
   "outputs": [],
   "source": [
    "from pyspark.sql.functions import col, udf\n",
    "from pyspark.sql.types import StringType, IntegerType\n",
    "\n",
    "# use udf to define a row-at-a-time udf\n",
    "def count_friends(line):\n",
    "    # lowercase transformation\n",
    "    # splitting into tokens/words\n",
    "    return len(line.lower().split(', '))\n",
    "\n",
    "# count the number of friends per user and add the value as a new column\n",
    "count_friends = udf(count_friends, IntegerType())"
   ]
  },
  {
   "cell_type": "markdown",
   "metadata": {},
   "source": [
    "### Experiment 2: Sorting dataset according \"review_count\", \"useful\", \"fans\" and couting the number of friends per reviewer and sorting according to the number."
   ]
  },
  {
   "cell_type": "code",
   "execution_count": null,
   "metadata": {},
   "outputs": [],
   "source": [
    "times = []\n",
    "for i in range(5):\n",
    "    start_time = time.time()\n",
    "\n",
    "    # sort according to reviewers with most reviews\n",
    "    top_reviewers = users.sort(\"review_count\", ascending=False).head(20)\n",
    "\n",
    "    # sort according to reviewers with most useful reviews\n",
    "    top_useful_reviews = users.sort(\"useful\", \"review_count\", ascending=[0,0]).head(20)\n",
    "\n",
    "    # sort according to reviewers with most fans\n",
    "    top_fan_count = users.sort(\"fans\", \"useful\", ascending=[0,0]).head(20)\n",
    "\n",
    "    # count the number of friends per reviewer\n",
    "    modified = users.withColumn(\"friendsCount\", count_friends(col(\"friends\")))\n",
    "\n",
    "    # sort according to reviewers with most friends and then fans\n",
    "    top_friends = modified.sort(\"friendsCount\", \"fans\", ascending=[0,0]).head(20)\n",
    "\n",
    "    end_time = time.time()\n",
    "    delta = end_time - start_time\n",
    "    times.append(delta)\n",
    "\n",
    "    print(\"Top 5 Reviewers by Review Count!\")\n",
    "    for row in top_reviewers[:5]:\n",
    "        name, since, rc = row[\"name\"], row[\"yelping_since\"], row[\"review_count\"]\n",
    "        print(\"Name:\\t{}\\tReview Count:\\t{}\\tYelping Since:\\t{}\".format(name, rc, since))\n",
    "\n",
    "    print(\"\\nTop 5 Most Useful Reviews by Reviewer!\")\n",
    "    for row in top_useful_reviews[:5]:\n",
    "        name, since, rc, useful = row[\"name\"], row[\"yelping_since\"], row[\"review_count\"], row[\"useful\"]\n",
    "        print(\"Name:\\t{}\\tUseful Reviews:\\t{}\\tReview Count:\\t{}\\tYelping Since:\\t{}\".format(name, useful, rc, since))\n",
    "\n",
    "    print(\"\\nTop 5 Reviewers with most Fans!\")\n",
    "    for row in top_fan_count[:5]:\n",
    "        name, since, rc, useful, fans = row[\"name\"], row[\"yelping_since\"], row[\"review_count\"], row[\"useful\"], row[\"fans\"]\n",
    "        print(\"Name:\\t{}\\tFans:\\t{}\\tUseful Reviews:\\t{}\\tReview Count:\\t{}\\tYelping Since:\\t{}\".format(name, fans, useful, rc, since))\n",
    "\n",
    "    print(\"\\nTop 5 Reviewers with most Friends!\")\n",
    "    for row in top_friends[:5]:\n",
    "        name, since, fc, fans = row[\"name\"], row[\"yelping_since\"], row[\"friendsCount\"], row[\"fans\"]\n",
    "        print(\"Name:\\t{}\\tFriends:\\t{}\\tFans:\\t{}\\tYelping Since:\\t{}\".format(name, fans, fc, since))\n",
    "    \n",
    "    print(\"\\nThe evaluation took: {:3.3f} seconds\".format(end_time - start_time))\n",
    "    del top_reviewers, top_useful_reviews, top_fan_count, modified, top_friends, delta\n",
    "    \n",
    "print(\"Average Time: {}\".format(sum(times)/len(times)))"
   ]
  },
  {
   "cell_type": "markdown",
   "metadata": {},
   "source": [
    "## Experiment 3: Reviews"
   ]
  },
  {
   "cell_type": "markdown",
   "metadata": {},
   "source": [
    "### Load User Data & Preprocess"
   ]
  },
  {
   "cell_type": "code",
   "execution_count": 7,
   "metadata": {},
   "outputs": [
    {
     "name": "stdout",
     "output_type": "stream",
     "text": [
      "root\n",
      " |-- business_id: string (nullable = true)\n",
      " |-- cool: long (nullable = true)\n",
      " |-- date: string (nullable = true)\n",
      " |-- funny: long (nullable = true)\n",
      " |-- review_id: string (nullable = true)\n",
      " |-- stars: double (nullable = true)\n",
      " |-- text: string (nullable = true)\n",
      " |-- useful: long (nullable = true)\n",
      " |-- user_id: string (nullable = true)\n",
      "\n",
      "Rows in Reviews Dataframe:\t 1000001\n",
      "Number of Partitions:\t\t 6\n"
     ]
    }
   ],
   "source": [
    "# LOCAL \n",
    "# read JSON file\n",
    "reviews = spark.read.json(\"./data/reviews_1000000.json\")\n",
    "\n",
    "# the inferred schema can be visualized using the printSchema() method\n",
    "reviews.printSchema()\n",
    "\n",
    "# the number of rows\n",
    "print(\"Rows in Reviews Dataframe:\\t\", reviews.count())\n",
    "\n",
    "# the number of RDD partitions\n",
    "print(\"Number of Partitions:\\t\\t\", reviews.rdd.getNumPartitions())"
   ]
  },
  {
   "cell_type": "markdown",
   "metadata": {},
   "source": [
    "### Experiment 3: Preprocessing of Reviews & Join with Businesses "
   ]
  },
  {
   "cell_type": "code",
   "execution_count": 16,
   "metadata": {},
   "outputs": [
    {
     "name": "stdout",
     "output_type": "stream",
     "text": [
      "[Row(business_id='ujmEBvifdJM6h6RLv4wQIg', categories='Fitness & Instruction, Doctors, Health & Medical, Active Life, Gyms, Emergency Rooms, Medical Centers, Hospitals', text=\"['total', 'bill', 'for', 'this', 'horrible', 'service', 'over', '8gs', 'these', 'crooks', 'actually', 'had', 'the', 'nerve', 'to', 'charge', 'us', '69', 'for', '3', 'pills', 'i', 'checked', 'online', 'the', 'pills', 'can', 'be', 'had', 'for', '19', 'cents', 'each', 'avoid', 'hospital', 'ers', 'at', 'all', 'costs']\"), Row(business_id='NZnhc2sEQy3RmzKTZnqtwQ', categories='Beauty & Spas, Hair Stylists, Makeup Artists, Hair Salons, Hair Extensions', text=\"['i', 'adore', 'travis', 'at', 'the', 'hard', 'rocks', 'new', 'kelly', 'cardenas', 'salon', '', 'im', 'always', 'a', 'fan', 'of', 'a', 'great', 'blowout', 'and', 'no', 'stranger', 'to', 'the', 'chains', 'that', 'offer', 'this', 'service', 'however', 'travis', 'has', 'taken', 'the', 'flawless', 'blowout', 'to', 'a', 'whole', 'new', 'level', '', 'traviss', 'greets', 'you', 'with', 'his', 'perfectly', 'green', 'swoosh', 'in', 'his', 'otherwise', 'perfectly', 'styled', 'black', 'hair', 'and', 'a', 'vegasworthy', 'rockstar', 'outfit', '', 'next', 'comes', 'the', 'most', 'relaxing', 'and', 'incredible', 'shampoo', '', 'where', 'you', 'get', 'a', 'full', 'head', 'message', 'that', 'could', 'cure', 'even', 'the', 'very', 'worst', 'migraine', 'in', 'minutes', '', 'and', 'the', 'scented', 'shampoo', 'room', '', 'travis', 'has', 'freakishly', 'strong', 'fingers', 'in', 'a', 'good', 'way', 'and', 'use', 'the', 'perfect', 'amount', 'of', 'pressure', '', 'that', 'was', 'superb', '', 'then', 'starts', 'the', 'glorious', 'blowout', 'where', 'not', 'one', 'not', 'two', 'but', 'three', 'people', 'were', 'involved', 'in', 'doing', 'the', 'best', 'roundbrush', 'action', 'my', 'hair', 'has', 'ever', 'seen', '', 'the', 'team', 'of', 'stylists', 'clearly', 'gets', 'along', 'extremely', 'well', 'as', 'its', 'evident', 'from', 'the', 'way', 'they', 'talk', 'to', 'and', 'help', 'one', 'another', 'that', 'its', 'really', 'genuine', 'and', 'not', 'some', 'corporate', 'requirement', '', 'it', 'was', 'so', 'much', 'fun', 'to', 'be', 'there', 'next', 'travis', 'started', 'with', 'the', 'flat', 'iron', '', 'the', 'way', 'he', 'flipped', 'his', 'wrist', 'to', 'get', 'volume', 'all', 'around', 'without', 'overdoing', 'it', 'and', 'making', 'me', 'look', 'like', 'a', 'texas', 'pagent', 'girl', 'was', 'admirable', '', 'its', 'also', 'worth', 'noting', 'that', 'he', 'didnt', 'fry', 'my', 'hair', '', 'something', 'that', 'ive', 'had', 'happen', 'before', 'with', 'less', 'skilled', 'stylists', '', 'at', 'the', 'end', 'of', 'the', 'blowout', '', 'style', 'my', 'hair', 'was', 'perfectly', 'bouncey', 'and', 'looked', 'terrific', '', 'the', 'only', 'thing', 'better', '', 'that', 'this', 'awesome', 'blowout', 'lasted', 'for', 'days', 'travis', 'i', 'will', 'see', 'you', 'every', 'single', 'time', 'im', 'out', 'in', 'vegas', '', 'you', 'make', 'me', 'feel', 'beauuuutiful']\"), Row(business_id='WTqjgwHlXbSFevF32_DJVw', categories='Health & Medical, Cosmetic Dentists, Orthodontists, General Dentistry, Dentists', text=\"['i', 'have', 'to', 'say', 'that', 'this', 'office', 'really', 'has', 'it', 'together', 'they', 'are', 'so', 'organized', 'and', 'friendly', '', 'dr', 'j', 'phillipp', 'is', 'a', 'great', 'dentist', 'very', 'friendly', 'and', 'professional', '', 'the', 'dental', 'assistants', 'that', 'helped', 'in', 'my', 'procedure', 'were', 'amazing', 'jewel', 'and', 'bailey', 'helped', 'me', 'to', 'feel', 'comfortable', '', 'i', 'dont', 'have', 'dental', 'insurance', 'but', 'they', 'have', 'this', 'insurance', 'through', 'their', 'office', 'you', 'can', 'purchase', 'for', '80', 'something', 'a', 'year', 'and', 'this', 'gave', 'me', '25', 'off', 'all', 'of', 'my', 'dental', 'work', 'plus', 'they', 'helped', 'me', 'get', 'signed', 'up', 'for', 'care', 'credit', 'which', 'i', 'knew', 'nothing', 'about', 'before', 'this', 'visit', '', 'i', 'highly', 'recommend', 'this', 'office', 'for', 'the', 'nice', 'synergy', 'the', 'whole', 'office', 'has']\"), Row(business_id='ikCg8xy5JIg_NGPx-MSIDA', categories='Bars, Pubs, Nightlife, Tapas Bars, Restaurants', text=\"['went', 'in', 'for', 'a', 'lunch', 'steak', 'sandwich', 'was', 'delicious', 'and', 'the', 'caesar', 'salad', 'had', 'an', 'absolutely', 'delicious', 'dressing', 'with', 'a', 'perfect', 'amount', 'of', 'dressing', 'and', 'distributed', 'perfectly', 'across', 'each', 'leaf', 'i', 'know', 'im', 'going', 'on', 'about', 'the', 'salad', '', 'but', 'it', 'was', 'perfectdrink', 'prices', 'were', 'pretty', 'goodthe', 'server', 'dawn', 'was', 'friendly', 'and', 'accommodating', 'very', 'happy', 'with', 'herin', 'summation', 'a', 'great', 'pub', 'experience', 'would', 'go', 'again']\"), Row(business_id='b1b1eb3uo-w561D0ZfCEiQ', categories='Teeth Whitening, Beauty & Spas', text=\"['today', 'was', 'my', 'second', 'out', 'of', 'three', 'sessions', 'i', 'had', 'paid', 'for', 'although', 'my', 'first', 'session', 'went', 'well', 'i', 'could', 'tell', 'meredith', 'had', 'a', 'particular', 'enjoyment', 'for', 'her', 'male', 'clients', 'over', 'her', 'female', 'however', 'i', 'returned', 'because', 'she', 'did', 'my', 'teeth', 'fine', 'and', 'i', 'was', 'pleased', 'with', 'the', 'results', 'when', 'i', 'went', 'in', 'today', 'i', 'was', 'in', 'the', 'whitening', 'room', 'with', 'three', 'other', 'gentlemen', 'my', 'appointment', 'started', 'out', 'well', 'although', 'being', 'a', 'person', 'who', 'is', 'in', 'the', 'service', 'industry', 'i', 'always', 'attend', 'to', 'my', 'female', 'clientele', 'first', 'when', 'a', 'couple', 'arrives', 'unbothered', 'by', 'those', 'signs', 'i', 'waited', 'my', 'turn', 'she', 'checked', 'on', 'me', 'once', 'after', 'my', 'original', '30', 'minute', 'timer', 'to', 'ask', 'if', 'i', 'was', 'ok', 'she', 'attended', 'my', 'boyfriend', 'on', 'numerous', 'occasions', 'as', 'well', 'as', 'the', 'other', 'men', 'and', 'would', 'exit', 'the', 'room', 'without', 'even', 'asking', 'me', 'or', 'looking', 'to', 'see', 'if', 'i', 'had', 'any', 'irritation', 'half', 'way', 'through', 'another', 'woman', 'had', 'showed', 'up', 'who', 'she', 'was', 'explaining', 'the', 'deals', 'to', 'in', 'the', 'lobby', 'while', 'she', 'admits', 'timers', 'must', 'be', 'reset', 'half', 'way', 'through', 'the', 'process', 'she', 'reset', 'my', 'boyfriends', 'left', 'rest', 'the', 'gentleman', 'furthest', 'away', 'from', 'me', 'who', 'had', 'time', 'to', 'come', 'in', 'redeem', 'his', 'deal', 'get', 'set', 'and', 'gave', 'his', 'timer', 'done', 'before', 'me', 'then', 'left', 'and', 'at', 'this', 'point', 'my', 'time', 'was', 'at', '10', 'minutes', 'so', 'she', 'should', 'have', 'reset', 'it', '5', 'minutes', 'ago', 'according', 'to', 'her', 'while', 'i', 'sat', 'there', 'patiently', 'this', 'whole', 'time', 'with', 'major', 'pain', 'in', 'my', 'gums', 'i', 'watched', 'the', 'time', 'until', 'the', 'lamp', 'shut', 'off', 'not', 'only', 'had', 'she', 'reset', 'two', 'others', 'explained', 'deals', 'to', 'other', 'guest', 'but', 'she', 'never', 'once', 'checked', 'on', 'my', 'time', 'when', 'my', 'light', 'turned', 'off', 'i', 'released', 'the', 'stance', 'of', 'my', 'mouth', 'to', 'a', 'more', 'relaxed', 'state', 'assuming', 'i', 'was', 'only', 'getting', 'a', 'thirty', 'minute', 'session', 'instead', 'of', 'the', 'usual', '45', 'because', 'she', 'had', 'yet', 'to', 'come', 'in', 'at', 'this', 'point', 'the', 'teeth', 'formula', 'was', 'not', 'only', 'burning', 'the', 'gum', 'she', 'neglected', 'for', '25', 'minutes', 'now', 'but', 'it', 'began', 'to', 'burn', 'my', 'lips', 'i', 'began', 'squealing', 'and', 'slapping', 'my', 'chair', 'trying', 'to', 'get', 'her', 'attention', 'from', 'the', 'other', 'room', 'in', 'a', 'panic', 'i', 'was', 'in', 'so', 'much', 'pain', 'that', 'by', 'the', 'time', 'she', 'entered', 'the', 'room', 'i', 'was', 'already', 'out', 'of', 'my', 'chair', 'she', 'finally', 'then', 'acknowledged', 'me', 'and', 'asked', 'if', 'she', 'could', 'put', 'vitamin', 'e', 'on', 'my', 'gum', 'burn', 'pictured', 'below', 'at', 'this', 'point', 'she', 'has', 'treated', 'two', 'other', 'gums', 'burns', 'while', 'neglecting', 'me', 'and', 'i', 'was', 'so', 'irritated', 'that', 'i', 'had', 'to', 'suffer', 'all', 'i', 'wanted', 'was', 'to', 'leave', 'while', 'i', 'waited', 'for', 'my', 'boyfriend', 'she', 'kept', 'harassing', 'me', 'about', 'the', 'issue', 'saying', 'well', 'burns', 'come', 'with', 'teeth', 'whitening', 'while', 'i', 'totally', 'agree', 'and', 'under', 'justifiable', 'circumstances', 'would', 'not', 'be', 'as', 'irritate', 'it', 'could', 'have', 'easily', 'been', 'avoid', 'if', 'she', 'had', 'checked', 'on', 'me', 'even', 'a', 'second', 'time', 'so', 'i', 'could', 'let', 'her', 'know', 'not', 'only', 'did', 'she', 'never', 'check', 'on', 'my', 'physical', 'health', 'she', 'couldnt', 'even', 'take', 'two', 'seconds', 'to', 'reset', 'the', 'timer', 'which', 'she', 'even', 'admitted', 'to', 'me', 'her', 'accuse', 'was', 'that', 'she', 'was', 'coming', 'in', 'to', 'do', 'it', 'but', 'i', 'had', 'the', 'light', 'off', 'for', 'a', 'solid', 'two', 'minutes', 'before', 'i', 'couldnt', 'stand', 'the', 'pain', 'she', 'admitted', 'it', 'should', 'be', 'reset', 'every', '15', 'minutes', 'which', 'means', 'for', '25', 'minutes', 'she', 'did', 'not', 'bother', 'to', 'help', 'me', 'at', 'all', 'her', 'guest', 'in', 'the', 'lobby', 'then', 'proceeded', 'to', 'attack', 'me', 'as', 'well', 'simply', 'because', 'i', 'wanted', 'to', 'leave', 'after', 'the', 'way', 'i', 'was', 'treated', 'i', 'also', 'expected', 'a', 'refund', 'for', 'not', 'getting', 'a', 'complete', 'session', 'today', 'due', 'to', 'the', 'neglect', 'and', 'the', 'fact', 'i', 'wont', 'be', 'returning', 'for', 'my', 'last', 'she', 'had', 'failed', 'to', 'do', 'that', 'she', 'was', 'even', 'screaming', 'from', 'the', 'door', 'and', 'continued', 'to', 'until', 'my', 'boyfriend', 'and', 'i', 'were', 'down', 'the', 'steps', 'i', 'have', 'never', 'in', 'my', 'life', 'been', 'more', 'appalled', 'by', 'a', 'grown', 'womans', 'behavior', 'who', 'claims', 'to', 'be', 'in', 'the', 'business', 'for', '10', 'years', 'admit', 'your', 'wrongs', 'but', 'dont', 'make', 'your', 'guest', 'feel', 'unwelcome', 'because', 'you', 'cant', 'do', 'you', 'job', 'properly']\"), Row(business_id='eU_713ec6fTGNO4BegRaww', categories='Restaurants, Italian, Pizza', text=\"['ill', 'be', 'the', 'first', 'to', 'admit', 'that', 'i', 'was', 'not', 'excited', 'about', 'going', 'to', 'la', 'tavolta', 'being', 'a', 'food', 'snob', 'when', 'a', 'group', 'of', 'friends', 'suggested', 'we', 'go', 'for', 'dinner', 'i', 'looked', 'online', 'at', 'the', 'menu', 'and', 'to', 'me', 'there', 'was', 'nothing', 'special', 'and', 'it', 'seemed', 'overpriced', '', 'im', 'also', 'not', 'big', 'on', 'ordering', 'pasta', 'when', 'i', 'go', 'out', 'alas', 'i', 'was', 'outnumbered', 'thank', 'goodness', 'i', 'ordered', 'the', 'sea', 'bass', 'special', 'it', 'was', 'to', 'die', 'for', 'cooked', 'perfectly', 'seasoned', 'perfectly', 'perfect', 'portion', 'i', 'can', 'not', 'say', 'enough', 'good', 'things', 'about', 'this', 'dish', 'when', 'the', 'server', 'asked', 'how', 'it', 'was', 'he', 'seemed', 'very', 'proud', 'of', 'the', 'dish', 'and', 'said', '', 'doesnt', 'she', 'the', 'chef', 'do', 'an', 'incredible', 'job', 'she', 'does', 'my', 'hubby', 'got', 'the', 'crab', 'tortellini', 'and', 'also', 'loved', 'his', 'i', 'heard', 'mmmm', 'this', 'is', 'so', 'good', 'from', 'all', 'around', 'the', 'table', 'our', 'waiter', 'was', 'super', 'nice', 'and', 'even', 'gave', 'us', 'free', 'desserts', 'because', 'we', 'were', 'some', 'of', 'the', 'last', 'people', 'in', 'the', 'restaurant', 'service', 'was', 'very', 'slow', 'and', 'the', 'place', 'was', 'packed', 'but', 'we', 'had', 'our', 'jugs', 'of', 'wine', 'and', 'a', 'large', 'group', 'with', 'good', 'conversation', 'so', 'it', 'didnt', 'seem', 'to', 'bother', 'anyonesodo', 'order', 'the', 'calamari', 'and', 'fried', 'zucchini', 'appetizers', 'leave', 'out', 'the', 'mussels', 'if', 'they', 'have', 'the', 'sea', 'bass', 'special', 'i', 'highly', 'recommend', 'it', 'the', 'chicken', 'parm', 'and', 'crab', 'tortellini', 'were', 'also', 'very', 'good', 'and', 'very', 'big', 'the', 'chicken', 'romano', 'was', 'a', 'bit', 'bland', 'the', 'house', 'salads', 'were', 'teeny', 'do', 'make', 'a', 'reservation', 'but', 'still', 'expect', 'to', 'wait', 'for', 'your', 'food', 'go', 'with', 'a', 'large', 'group', 'of', 'people', 'and', 'plan', 'for', 'it', 'to', 'be', 'loud', 'dont', 'go', 'with', 'a', 'date', 'unless', 'youre', 'fighting', 'and', 'dont', 'feel', 'like', 'hearing', 'anything', 'they', 'have', 'to', 'say', '', 'ask', 'to', 'sit', 'in', 'the', 'side', 'room', 'if', 'its', 'available']\"), Row(business_id='3fw2X5bZYeW9xCz_zGhOHg', categories='Food, Chinese, Restaurants, Desserts', text=\"['tracy', 'dessert', 'had', 'a', 'big', 'name', 'in', 'hong', 'kong', 'and', 'the', 'one', 'in', 'first', 'markham', 'place', 'has', 'been', 'here', 'for', 'many', 'years', 'now', 'came', 'in', 'for', 'some', 'chinese', 'dessert', 'and', 'i', 'must', 'say', 'their', 'selection', 'has', 'increased', 'tremendously', 'over', 'the', 'years', 'i', 'might', 'as', 'well', 'add', 'that', 'the', 'price', 'has', 'also', 'increased', 'tremendously', 'as', 'well', 'the', 'waitress', 'gave', 'us', 'tea', 'which', 'i', 'could', 'taste', 'had', 'red', 'date', 'in', 'it', 'fancya', 'simple', 'taro', 'with', 'coconut', 'with', 'tapioca', 'pearls', 'was', 'like', '525', 'or', 'something', 'basically', 'all', 'the', 'desserts', 'were', 'more', 'than', '5', 'thats', 'crazy', 'i', 'can', 'literally', 'just', 'make', 'this', 'dessert', 'at', 'home', 'and', 'for', 'a', 'bowl', 'it', 'would', 'probably', 'cost', 'like', '050', 'a', 'few', 'years', 'ago', 'i', 'think', 'i', 'can', 'still', 'get', 'it', 'for', 'like', '34', 'which', 'is', 'more', 'reasonable', 'but', 'wow', 'more', 'than', '5', 'is', 'a', 'little', 'over', 'the', 'top', 'for', 'this', 'dessert', 'though', 'i', 'must', 'say', 'it', 'is', 'tracy', 'dessert', 'and', 'they', 'are', 'a', 'little', 'more', 'on', 'the', 'expensive', 'side', 'i', 'also', 'saw', 'other', 'items', 'on', 'the', 'menu', 'like', 'fish', 'balls', 'chicken', 'wings', 'shaved', 'ice', 'my', 'friend', 'got', 'a', 'mango', 'drink', 'with', 'fresh', 'mango', 'in', 'it', 'im', 'also', 'surprised', 'how', 'many', 'people', 'come', 'to', 'tracy', 'dessert', 'after', 'work', 'we', 'came', 'on', 'a', 'sunday', 'and', 'the', 'tables', 'were', 'always', 'filled', 'i', 'think', 'the', 'amount', 'of', 'tables', 'they', 'had', 'were', 'just', 'perfect', 'because', 'no', 'one', 'really', 'waited', 'for', 'seats', 'for', 'a', 'long', 'time', 'but', 'the', 'tables', 'kept', 'filling', 'up', 'once', 'a', 'table', 'was', 'finished']\"), Row(business_id='zvO-PJCpNk4fgAVUnExYAA', categories='Sports Bars, Bars, Restaurants, American (New), Nightlife', text=\"['this', 'place', 'has', 'gone', 'down', 'hill', '', 'clearly', 'they', 'have', 'cut', 'back', 'on', 'staff', 'and', 'food', 'qualitymany', 'of', 'the', 'reviews', 'were', 'written', 'before', 'the', 'menu', 'changed', '', 'ive', 'been', 'going', 'for', 'years', 'and', 'the', 'food', 'quality', 'has', 'gone', 'down', 'hillthe', 'service', 'is', 'slow', '', 'my', 'salad', 'which', 'was', '15', 'was', 'as', 'bad', 'as', 'it', 'getsits', 'just', 'not', 'worth', 'spending', 'the', 'money', 'on', 'this', 'place', 'when', 'there', 'are', 'so', 'many', 'other', 'options']\"), Row(business_id='b2jN2mm9Wf3RcrZCgfo1cg', categories='Breweries, Event Planning & Services, Pubs, Distilleries, Venues & Event Spaces, Bars, Food, Nightlife', text=\"['i', 'was', 'really', 'looking', 'forward', 'to', 'visiting', 'after', 'having', 'some', 'of', 'their', 'beers', 'the', 'man', 'owar', 'quickly', 'became', 'my', 'favorite', 'dipa', 'the', 'rusulka', 'vanilla', 'stout', 'is', 'a', 'good', 'thick', 'sweet', 'stout', 'and', 'the', 'ironclad', 'is', 'a', 'top', 'notch', 'ipa', 'the', 'only', 'big', 'miss', 'on', 'their', 'beers', 'ive', 'had', 'is', 'the', 'big', 'chuck', 'barleywine', 'it', 'could', 'probably', 'benefit', 'greatly', 'with', 'age', 'but', 'at', 'this', 'age', 'all', 'there', 'is', 'to', 'taste', 'is', 'the', 'alcohol', '', 'nonetheless', 'i', 'had', 'enough', 'to', 'convince', 'me', 'that', 'the', 'other', 'beers', 'i', 'hadnt', 'had', 'from', 'them', 'would', 'be', 'top', 'notch', 'and', 'they', 'are', 'the', 'reason', 'for', 'the', '2', 'stars', 'should', 'not', 'reflect', 'the', 'quality', 'of', 'the', 'brewers', 'they', 'obviously', 'know', 'their', 'craft', 'well', 'the', 'servers', 'are', 'great', 'and', 'friendly', 'but', 'relying', 'on', 'two', 'servers', 'to', 'wait', 'on', '100', 'customers', 'says', 'a', 'lot', 'about', 'how', 'inexperienced', 'management', 'must', 'be', 'in', 'fact', 'after', 'waiting', '15', 'mins', 'at', 'a', 'dirty', 'table', 'i', 'was', 'finally', 'able', 'to', 'track', 'down', 'someone', 'i', 'guessed', 'was', 'an', 'employee', 'to', 'let', 'them', 'know', 'we', 'were', 'even', 'there', 'after', 'another', '5', 'mins', 'the', 'gm', 'finally', 'stopped', 'over', 'to', 'take', 'our', 'drink', 'order', 'the', 'smugness', 'of', 'this', 'guy', 'was', 'amazing', 'the', 'thought', 'of', 'offering', 'a', 'simple', 'apology', 'never', 'seemed', 'to', 'enter', 'into', 'his', 'head', 'this', 'is', 'the', 'time', 'a', 'server', 'finally', 'stopped', 'by', 'to', 'pick', 'up', 'the', 'nonfinal', 'check', 'left', 'by', 'the', 'party', 'before', 'us', 'who', 'didnt', 'seem', 'very', 'pleased', 'when', 'leaving', 'the', 'toast', '', 'cheese', 'was', 'good', 'but', 'by', 'the', 'time', 'we', 'were', 'able', 'to', 'dig', 'into', 'their', 'heartiest', 'offering', 'of', 'food', 'saltines', 'and', 'butter', 'may', 'have', 'been', 'equally', 'pleasing']\"), Row(business_id='oxwGyA17NL6c5t1Etg5WgQ', categories='Shopping, Computers, Electronics, Mobile Phones', text=\"['its', 'a', 'giant', 'best', 'buy', 'with', '66', 'registers', '', 'i', 'dont', 'get', 'it', '', 'whats', 'the', 'big', 'deal', 'about', 'this', 'place']\"), Row(business_id='8mIrX_LrOnAqWsB5JrOojQ', categories='Performing Arts, Amusement Parks, Museums, Arcades, Arts & Entertainment, Active Life, Restaurants', text=\"['like', 'walking', 'back', 'in', 'time', 'every', 'saturday', 'morning', 'my', 'sister', 'and', 'i', 'was', 'in', 'a', 'bowling', 'league', 'and', 'after', 'we', 'were', 'done', 'wed', 'spend', 'a', 'few', 'quarters', 'playing', 'the', 'pin', 'ball', 'machines', 'until', 'our', 'mother', 'came', 'to', 'pick', 'us', 'upmy', 'sister', 'was', 'daring', 'and', 'play', 'the', 'machines', 'hard', 'she', 'was', 'afraid', 'of', 'that', 'tilt', 'showing', 'up', 'and', 'freezing', 'the', 'game', '', 'i', 'on', 'the', 'other', 'hand', 'was', 'a', 'bit', 'more', 'gentler', 'and', 'wanted', 'to', 'make', 'sure', 'i', 'got', 'my', 'quarters', 'worththis', 'place', 'has', 'rows', 'and', 'rows', 'of', 'machines', 'some', 'are', 'really', 'old', 'and', 'some', 'are', 'more', 'of', 'a', 'mid', '80s', 'theme', '', 'there', 'is', 'even', 'a', 'ms', 'pac', 'man', '', 'it', 'was', 'fun', 'to', 'spend', 'an', 'afternoon', 'playing', 'the', 'machines', 'and', 'remembering', 'all', 'the', 'fun', 'of', 'my', 'early', 'teen', 'years']\"), Row(business_id='mRUVMJkUGxrByzMQ2MuOpA', categories='Restaurants, Breakfast & Brunch, Burgers, American (New), Sports Bars, Bars, Nightlife', text=\"['walked', 'in', 'around', '4', 'on', 'a', 'friday', 'afternoon', 'we', 'sat', 'at', 'a', 'table', 'just', 'off', 'the', 'bar', 'and', 'walked', 'out', 'after', '5', 'min', 'or', 'so', 'dont', 'even', 'think', 'they', 'realized', 'we', 'walked', 'in', 'however', 'everyone', 'at', 'the', 'bar', 'noticed', 'we', 'walked', 'in', 'service', 'was', 'non', 'existent', 'at', 'best', 'not', 'a', 'good', 'way', 'for', 'a', 'new', 'business', 'to', 'start', 'out', 'oh', 'well', 'the', 'location', 'they', 'are', 'at', 'has', 'been', 'about', '5', 'different', 'things', 'over', 'the', 'past', 'several', 'years', 'so', 'they', 'will', 'just', 'be', 'added', 'to', 'the', 'list', 'smdh']\"), Row(business_id='FxLfqxdYPA6Z85PFKaqLrg', categories='Italian, Salad, Restaurants, Gluten-Free', text=\"['wow', 'so', 'surprised', 'at', 'the', 'one', 'and', 'two', 'star', 'reviews', '', 'we', 'started', 'with', 'the', 'most', 'tender', 'calamari', 'although', 'the', 'marinara', 'sauce', 'was', 'a', 'bit', 'bland', 'but', 'a', 'touch', 'of', 'salt', 'made', 'it', 'just', 'right', 'my', 'husband', 'had', 'the', 'veal', 'with', 'peppers', 'and', 'said', 'it', 'was', 'so', 'delicious', 'and', 'tender', 'the', 'mashed', 'potatoes', 'were', 'perfect', 'i', 'had', 'the', 'salmon', 'diablo', 'which', 'was', 'also', 'delicious', 'our', 'salad', 'was', 'beautiful', 'dressing', 'was', 'served', 'on', 'the', 'salad', 'and', 'it', 'was', 'a', 'nice', 'amount', 'we', 'ended', 'our', 'delicious', 'meal', 'with', 'a', 'piece', 'of', 'tiramisu', 'our', 'server', 'matt', 'was', 'right', 'on', 'very', 'pleasant', 'and', 'knowledgeable', 'about', 'the', 'menu', 'our', 'appetizer', 'salad', 'and', 'entrees', 'were', 'timed', 'perfectly', 'i', 'love', 'salad', 'and', 'did', 'not', 'mind', 'that', 'my', 'entree', 'was', 'served', 'while', 'i', 'was', 'still', 'eating', 'it', 'no', 'problem', 'it', 'let', 'my', 'dinner', 'cool', 'to', 'just', 'the', 'right', 'temp', 'for', 'me', 'to', 'eat', 'it', 'comfortably', 'i', 'wonder', 'sometimes', 'if', 'people', 'just', 'dont', 'appreciate', 'relaxing', 'and', 'taking', 'time', 'to', 'eat', 'a', 'wonderful', 'and', 'beautifully', 'prepared', 'meal', '', 'a', 'wonderful', 'atmosphere', 'so', 'relaxing', 'the', 'chairs', 'are', 'super', 'comfortable', 'too', 'we', 'will', 'certainly', 'be', 'back', 'give', 'it', 'a', 'try', '', 'dont', '', 'always', 'go', 'by', 'the', 'reviews', 'a', 'bottle', 'of', 'riesling', 'calamari', 'app', 'two', 'delicious', 'entrees', 'and', 'dessert', 'for', '92', 'well', 'with', 'it']\"), Row(business_id='LUN6swQYa4xJKaM_UEUOEw', categories='Hotels & Travel, Travel Services, Nightlife, Transportation, Party & Event Planning, Limos, Event Planning & Services', text=\"['michael', 'from', 'red', 'carpet', 'vip', 'is', 'amazing', '', 'i', 'reached', 'out', 'because', 'i', 'needed', 'help', 'planning', 'my', 'soon', 'to', 'be', 'sister', 'in', 'laws', 'bachelorette', 'it', 'was', 'a', 'group', 'of', '10', 'girls', 'so', 'i', 'was', 'a', 'little', 'overwhelmed', 'but', 'michael', 'saved', 'the', 'day', 'everything', 'was', 'super', 'smooth', 'and', 'easy', 'we', 'got', 'good', 'deals', 'and', 'had', 'the', 'best', 'time', 'ever', 'we', 'booked', 'hotel', 'and', 'a', 'bachelorette', 'package', 'for', 'a', 'great', 'price', 'i', 'have', 'saved', 'contact', 'info', 'because', 'i', 'will', 'for', 'sure', 'reach', 'out', 'again', 'on', 'next', 'vegas', 'trip']\"), Row(business_id='AakkkTuGZA2KBodKi2_u8A', categories='Asian Fusion, Restaurants, Vietnamese', text=\"['i', 'cannot', 'believe', 'how', 'things', 'have', 'changed', 'in', '3', 'years', 'i', 'picked', 'up', 'duck', 'congee', 'sometime', 'in', 'the', 'winter', 'when', 'my', 'hubby', 'was', 'sick', '', 'i', 'was', 'very', 'disappointed', 'because', 'the', 'ginger', 'fish', 'sauce', 'tasted', 'like', 'it', 'had', 'gone', 'bad', 'it', 'should', 'never', 'be', 'bitter', '', 'today', 'my', 'hubby', 'wanted', 'to', 'eat', 'there', 'since', 'he', 'was', 'craving', 'the', 'duck', 'congee', 'and', 'most', 'places', 'dont', 'serve', 'the', 'duck', '', 'coleslaw', 'side', 'we', 'waited', 'about', '10', 'minutes', 'to', 'get', 'our', 'menu', '', 'after', 'we', 'placed', 'our', 'orders', 'we', 'waited', 'another', '5', 'minutes', 'to', 'get', 'the', 'tea', 'that', 'most', 'places', 'bring', 'with', 'the', 'menu', '', 'i', 'could', 'go', 'on', 'with', 'the', 'details', 'but', 'the', 'gist', 'of', 'the', 'story', 'is', 'they', 'were', 'understaffed', 'or', 'the', 'staff', 'was', 'slow', '', 'the', 'worst', 'part', 'of', 'it', 'was', 'that', 'the', 'service', '', 'the', 'servers', 'make', 'us', 'feel', 'bad', 'for', 'asking', 'for', 'anything', 'like', 'when', 'they', 'took', 'our', 'order', '', 'we', 'had', 'arrived', 'and', 'placed', 'our', 'order', 'before', 'another', 'couple', 'bside', 'us', 'at', 'least', '10', 'minutes', 'ahead', 'but', 'somehow', 'this', 'couple', 'received', 'their', 'pho', 'before', 'mine', '', 'they', 'were', 'almost', 'done', 'eating', 'their', 'pho', 'before', 'mine', 'came', 'out']\"), Row(business_id='YvrylyuWgbP90RgMqZQVnQ', categories='Sandwiches, Restaurants, Italian, Pizza', text=\"['you', 'cant', 'really', 'find', 'anything', 'wrong', 'with', 'this', 'place', 'the', 'pastas', 'and', 'pizzas', 'are', 'both', 'amazing', 'and', 'high', 'quality', 'the', 'price', 'is', 'very', 'reasonable', 'the', 'owner', 'and', 'the', 'staff', 'are', 'very', 'friendly', 'if', 'youre', 'in', 'downtown', 'check', 'this', 'place', 'out', 'a', 'lot', 'of', 'people', 'think', 'just', 'because', 'its', 'downtown', 'there', 'are', 'lots', 'of', 'options', 'around', 'but', 'thats', 'not', 'always', 'the', 'case', 'as', 'there', 'is', 'also', 'a', 'lot', 'of', 'poor', 'quality', 'food', 'in', 'downtown', 'as', 'well']\"), Row(business_id='NyLYY8q1-H3hfsTwuwLPCg', categories='Fast Food, Vegetarian, Restaurants, Vegan, Indian', text=\"['great', 'lunch', 'today', 'staff', 'was', 'very', 'helpful', 'in', 'assisting', 'with', 'selections', 'and', 'knowledgeable', 'on', 'the', 'ingredients', 'we', 'enjoyed', 'the', 'bbq', 'chicken', 'with', 'tika', 'masala', 'sauce', 'and', 'really', 'good', 'naan', 'bread', 'the', 'biryani', 'with', 'chicken', 'was', 'also', 'yummy', 'fun', 'to', 'see', 'the', 'food', 'being', 'prepared', 'in', 'the', 'tandoori', 'ovens', 'great', 'addition', 'to', 'the', 'fast', 'casual', 'scene', 'in', 'cleveland']\"), Row(business_id='cHdJXLlKNWixBXpDwEGb_A', categories='Caribbean, Szechuan, Mexican, Restaurants, Chinese, New Mexican Cuisine, Asian Fusion, Latin American', text=\"['i', 'love', 'chinese', 'food', 'and', 'i', 'love', 'mexican', 'food', 'what', 'can', 'go', 'wrong', 'a', 'couple', 'of', 'things', 'first', 'things', 'first', 'this', 'place', 'is', 'more', 'of', 'a', 'rice', 'bowl', 'kind', 'of', 'place', 'i', 'thought', 'it', 'was', 'going', 'to', 'be', 'more', 'diverse', 'as', 'far', 'as', 'the', 'menu', 'goes', 'but', 'its', 'mainly', 'rice', 'bowls', 'you', 'get', 'with', 'different', 'kinds', 'of', 'meats', 'the', 'ordering', 'was', 'a', 'little', 'confusing', 'at', 'first', 'but', 'one', 'of', 'the', 'employees', 'helped', 'us', 'out', 'and', 'i', 'got', 'the', '2item', 'bowl', 'and', 'got', 'the', 'jade', 'chicken', 'and', 'hengrenade', 'chicken', 'with', 'all', 'ricejerk', 'i', 'also', 'ordered', 'a', 'jade', 'chicken', 'quesadilla', 'on', 'the', 'sideim', 'gonna', 'admit', 'this', 'place', 'looks', 'kinda', 'dirty', 'i', 'dont', 'think', 'arizona', 'uses', 'those', 'health', 'department', 'letter', 'grade', 'system', 'like', 'california', 'does', 'but', 'if', 'i', 'were', 'to', 'just', 'judge', 'by', 'how', 'it', 'looked', 'inside', 'id', 'give', 'it', 'a', 'c', 'grade', 'lol', 'we', 'waited', 'for', 'about', '15', 'minutes', 'or', 'so', 'and', 'finally', 'got', 'our', 'food', 'we', 'took', 'it', 'to', 'go', 'and', 'ate', 'at', 'our', 'hotel', 'room', 'mmmm', 'the', 'food', 'was', 'just', 'alright', 'the', 'jade', 'chicken', 'was', 'nothing', 'special', 'it', 'tasted', 'like', 'any', 'generic', 'chinese', 'fast', 'food', 'orange', 'chickensesame', 'chicken', 'variant', 'the', 'hengrenade', 'chicken', 'although', 'was', 'the', 'less', 'spicier', 'version', 'of', 'the', 'jerk', 'chicken', 'was', 'still', 'pretty', 'spicy', 'for', 'me', 'just', 'be', 'warned', 'the', 'jerk', 'chicken', 'is', 'super', 'spicy', 'if', 'you', 'arent', 'sure', 'ask', 'for', 'a', 'sample', 'at', 'the', 'restaurant', 'before', 'ordering', 'but', 'it', 'was', 'way', 'too', 'spicy', 'for', 'me', 'the', 'jade', 'chicken', 'quesadilla', 'was', 'decent', 'but', 'nothing', 'special', 'just', 'imagine', 'orange', 'chicken', 'in', 'between', 'a', 'tortilla', 'and', 'cheese', 'a', 'friend', 'of', 'mine', 'ordered', 'a', 'jade', 'chicken', 'burrito', 'and', 'we', 'were', 'confused', 'when', 'we', 'pulled', 'it', 'out', 'of', 'the', 'bag', 'because', 'it', 'was', 'literally', 'the', 'size', 'of', 'mcdonalds', 'apple', 'pie', 'if', 'you', 'order', 'the', 'burrito', 'be', 'warned', 'that', 'its', 'a', 'burrito', 'for', 'gnomes', 'and', 'smurfs', 'but', 'he', 'said', 'it', 'was', 'tasty', 'they', 'provide', 'a', 'snicker', 'doodle', 'sugar', 'cookie', 'for', 'each', 'meal', 'and', 'it', 'was', 'decent', 'again', 'nothing', 'special', 'not', 'gonna', 'lie', 'the', 'next', 'day', 'my', 'stomach', 'felt', 'like', 'a', 'little', 'mexican', 'dude', 'and', 'chinese', 'dude', 'were', 'wrestling', 'and', 'throwing', 'molotov', 'cocktails', 'inside', 'i', 'used', 'the', 'bathroom', 'like', '5', 'times', 'i', 'dont', 'recommend', 'eating', 'this', 'place', 'if', 'you', 'have', 'a', 'lot', 'to', 'do', 'the', 'next', 'day']\"), Row(business_id='6lj2BJ4tJeu7db5asGHQ4w', categories='Sandwiches, Restaurants, Southern, Chicken Wings', text=\"['weve', 'been', 'a', 'huge', 'slims', 'fan', 'since', 'they', 'opened', 'one', 'up', 'in', 'texas', 'about', 'two', 'years', 'ago', 'when', 'we', 'used', 'to', 'live', 'there', 'this', 'place', 'never', 'disappoints', 'they', 'even', 'have', 'great', 'salads', 'and', 'grilled', 'chicken', 'plus', 'they', 'have', 'fresh', 'brewed', 'sweet', 'tea', 'its', 'the', 'best']\"), Row(business_id='y-Iw6dZflNix4BdwIyTNGA', categories='Restaurants, Food, Breweries, Gastropubs, Pizza', text=\"['good', 'selection', 'of', 'classes', 'of', 'beers', 'and', 'mains', 'ive', 'been', 'here', 'twicefirst', 'time', 'i', 'had', 'the', 'fried', 'chicken', 'it', 'was', 'delicious', 'but', 'be', 'warned', 'extremely', 'salty', 'i', 'couldnt', 'even', 'finish', 'the', 'last', 'piece', 'of', 'chicken', 'after', 'experiencing', 'a', 'salt', 'overloadsecond', 'time', 'we', 'came', 'on', 'a', 'wednesday', 'we', 'didnt', 'know', 'it', 'was', 'bbq', 'night', 'where', 'they', 'have', 'a', 'completely', 'different', 'menu', 'and', 'dont', 'offer', 'anything', 'from', 'their', 'original', 'vegetarianfriendly', 'menu', 'this', 'menu', 'has', 'one', 'vegetarianfriendly', 'option', '', 'an', 'eggplant', 'sandwich', 'the', 'vegetarian', 'in', 'my', 'party', 'said', 'it', 'was', 'awful', 'also', 'on', 'bbq', 'night', 'you', 'choose', '2', 'sides', 'except', 'they', 'were', 'out', 'of', 'all', 'their', 'sides', 'except', '2', '', 'fries', 'and', 'potato', 'salad', 'i', 'cant', 'say', 'i', 'was', 'thrilled', 'to', 'have', 'carb', 'heavy', 'sides', 'with', 'my', 'carb', 'heavy', 'main', 'how', 'do', 'you', 'run', 'out', 'of', 'sides', 'so', 'early', 'in', 'the', 'eveningservice', 'not', 'so', 'greatid', 'avoid', 'coming', 'here', 'on', 'wednesdays']\")]\n",
      "\n",
      "The evaluation took: 3.588 seconds\n",
      "\n",
      "Average Time: 3.5882091522216797\n"
     ]
    }
   ],
   "source": [
    "from pyspark.sql.functions import col, udf\n",
    "from pyspark.sql.types import StringType\n",
    "import re    \n",
    "\n",
    "# pre compile regex that match all non-ASCII characters\n",
    "pattern = re.compile(\"\\W\")\n",
    "\n",
    "# use udf to define a row-at-a-time udf\n",
    "def preprocess(line):\n",
    "    # lowercase transformation\n",
    "    # splitting into tokens/words\n",
    "    tokens = line.lower().split(' ')\n",
    "    tokens = [pattern.sub(\"\", token.strip()) for token in tokens]\n",
    "    return str(tokens)\n",
    "\n",
    "# tokenize preprocessing udf\n",
    "tok = udf(preprocess, StringType())\n",
    "\n",
    "times = []\n",
    "for i in range(1):\n",
    "    start_time = time.time()\n",
    "\n",
    "    # preprocess reviews\n",
    "    pr_reviews = reviews.withColumn(\"text\", tok(col(\"text\")))\n",
    "    pr_reviews = pr_reviews.drop('user_id', 'review_id')\n",
    "    pr_reviews = pr_reviews.withColumnRenamed(\"business_id\", \"bu_id\")\n",
    "\n",
    "    # print first three rows\n",
    "    # pr_reviews.show(5, False)\n",
    "\n",
    "    # join business and reviews\n",
    "    merged = business.join(pr_reviews, business.business_id == pr_reviews.bu_id, 'left_outer')\n",
    "\n",
    "    # drop duplicate column and filter out empty rows\n",
    "    merged = merged.drop(\"bu_id\").filter(merged.text.isNotNull())\n",
    "    result = merged.select([\"business_id\", \"categories\", \"text\"]).head(20)\n",
    "\n",
    "    end_time = time.time()\n",
    "    delta = end_time - start_time\n",
    "    times.append(delta)\n",
    "    \n",
    "    print(result)\n",
    "\n",
    "    print(\"\\nThe evaluation took: {:3.3f} seconds\\n\".format(delta))\n",
    "    del pr_reviews, merged, result, delta\n",
    "    \n",
    "print(\"Average Time: {}\".format(sum(times)/len(times)))"
   ]
  },
  {
   "cell_type": "markdown",
   "metadata": {},
   "source": [
    "## Shutdown"
   ]
  },
  {
   "cell_type": "code",
   "execution_count": 17,
   "metadata": {},
   "outputs": [],
   "source": [
    "# release the cores for another application!\n",
    "spark.stop()\n",
    "sc.stop()"
   ]
  },
  {
   "cell_type": "code",
   "execution_count": null,
   "metadata": {},
   "outputs": [],
   "source": []
  }
 ],
 "metadata": {
  "kernelspec": {
   "display_name": "Python 3",
   "language": "python",
   "name": "python3"
  },
  "language_info": {
   "codemirror_mode": {
    "name": "ipython",
    "version": 3
   },
   "file_extension": ".py",
   "mimetype": "text/x-python",
   "name": "python",
   "nbconvert_exporter": "python",
   "pygments_lexer": "ipython3",
   "version": "3.7.3"
  }
 },
 "nbformat": 4,
 "nbformat_minor": 2
}
