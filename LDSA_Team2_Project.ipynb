{
 "cells": [
  {
   "cell_type": "markdown",
   "metadata": {},
   "source": [
    "# LDAS: Project - Team 2\n",
    "Moritz Eck, moritz.eck.0055@student.uu.se<br>\n",
    "Tyson McLeod, <br>\n",
    "Isaline Baret, <br>\n",
    "Markella-Achilleia Zacharouli, <br>"
   ]
  },
  {
   "cell_type": "markdown",
   "metadata": {},
   "source": [
    "## Setup & Deploy"
   ]
  },
  {
   "cell_type": "code",
   "execution_count": 6,
   "metadata": {},
   "outputs": [],
   "source": [
    "from operator import add\n",
    "import re\n",
    "from collections import OrderedDict\n",
    "from operator import itemgetter \n",
    "import itertools\n",
    "from pyspark.sql import SparkSession"
   ]
  },
  {
   "cell_type": "code",
   "execution_count": 10,
   "metadata": {},
   "outputs": [],
   "source": [
    "# start your application with dynamic allocation enabled, a timeout of no more than 30 seconds and a cap on CPU cores:\n",
    "# REMOTE SESSION\n",
    "spark_session = SparkSession\\\n",
    "       .builder\\\n",
    "       .master(\"spark://192.168.1.153:7077\") \\\n",
    "       .appName(\"LDSA_Team2_Project\")\\\n",
    "       .config(\"spark.dynamicAllocation.enabled\", True)\\\n",
    "       .config(\"spark.shuffle.service.enabled\", True)\\\n",
    "       .config(\"spark.dynamicAllocation.executorIdleTimeout\",\"30s\")\\\n",
    "       .config(\"spark.executor.cores\",4)\\\n",
    "       .config(\"spark.files\", \"./data/heart.csv\")\\\n",
    "       .getOrCreate()\n",
    "\n",
    "# LOCAL SESSION\n",
    "# spark_session = SparkSession\\\n",
    "#     .builder.master(\"local[4]\")\\\n",
    "#     .appName(\"LDSA_Team2_Project\")\\\n",
    "#     .config('spark.executor.memory', '4g')\\\n",
    "#     .getOrCreate()"
   ]
  },
  {
   "cell_type": "markdown",
   "metadata": {},
   "source": [
    "## Load Data"
   ]
  },
  {
   "cell_type": "code",
   "execution_count": null,
   "metadata": {},
   "outputs": [],
   "source": [
    "# # read the CSV as a dataframe (LOCAL FILE)\n",
    "df = spark_session.read\\\n",
    "    .option(\"header\", \"true\")\\\n",
    "    .csv(\"./data/heart.csv\")\\\n",
    "    .cache()\n",
    "\n",
    "# read the CSV as a dataframe (REMOTE/HDFS FILE)\n",
    "# df = spark_session.read\\\n",
    "#     .option(\"header\", \"true\")\\\n",
    "#     .csv(\"hdfs://192.168.1.153:9000/parking-citations.csv\")\\\n",
    "#     .cache()\n",
    "\n",
    "# show top 10 rows\n",
    "df.show(10)\n",
    "\n",
    "# # using sparkcontext\n",
    "# sc = spark_session.sparkContext\n",
    "# text = sc.textFile(\"./data/heart.csv\")\n",
    "# print(\"First Row:\\t\", text.first())"
   ]
  },
  {
   "cell_type": "markdown",
   "metadata": {},
   "source": [
    "## Shutdown Session"
   ]
  },
  {
   "cell_type": "code",
   "execution_count": 13,
   "metadata": {},
   "outputs": [],
   "source": [
    "# release the cores for another application!\n",
    "spark_session.stop()\n",
    "sc.stop()"
   ]
  },
  {
   "cell_type": "code",
   "execution_count": null,
   "metadata": {},
   "outputs": [],
   "source": []
  }
 ],
 "metadata": {
  "kernelspec": {
   "display_name": "Python 3",
   "language": "python",
   "name": "python3"
  },
  "language_info": {
   "codemirror_mode": {
    "name": "ipython",
    "version": 3
   },
   "file_extension": ".py",
   "mimetype": "text/x-python",
   "name": "python",
   "nbconvert_exporter": "python",
   "pygments_lexer": "ipython3",
   "version": "3.6.7"
  }
 },
 "nbformat": 4,
 "nbformat_minor": 2
}
