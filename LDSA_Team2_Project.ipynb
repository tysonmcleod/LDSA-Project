{
 "cells": [
  {
   "cell_type": "markdown",
   "metadata": {},
   "source": [
    "# LDAS: Project - Team 2\n",
    "Moritz Eck, moritz.eck.0055@student.uu.se<br>\n",
    "Tyson McLeod, <br>\n",
    "Isaline Baret, <br>\n",
    "Markella-Achilleia Zacharouli, <br>"
   ]
  },
  {
   "cell_type": "markdown",
   "metadata": {},
   "source": [
    "## Setup & Deploy"
   ]
  },
  {
   "cell_type": "code",
   "execution_count": 1,
   "metadata": {},
   "outputs": [],
   "source": [
    "from pyspark.sql import SparkSession\n",
    "import matplotlib.pyplot as plt\n",
    "import time"
   ]
  },
  {
   "cell_type": "code",
   "execution_count": 2,
   "metadata": {},
   "outputs": [],
   "source": [
    "# start your application with dynamic allocation enabled, a timeout of no more than 30 seconds and a cap on CPU cores:\n",
    "# REMOTE SESSION\n",
    "# spark = SparkSession\\\n",
    "#        .builder\\\n",
    "#        .master(\"spark://192.168.1.153:7077\") \\\n",
    "#        .appName(\"LDSA_Team2_Project\")\\\n",
    "#        .config(\"spark.dynamicAllocation.enabled\", True)\\\n",
    "#        .config(\"spark.shuffle.service.enabled\", True)\\\n",
    "#        .config(\"spark.dynamicAllocation.executorIdleTimeout\",\"30s\")\\\n",
    "#        .config(\"spark.executor.cores\",4)\\\n",
    "#        .config(\"spark.files\", \"./data/heart.csv\")\\\n",
    "#        .getOrCreate()\n",
    "\n",
    "# LOCAL SESSION\n",
    "spark = SparkSession\\\n",
    "    .builder.master(\"local[4]\")\\\n",
    "    .appName(\"LDSA_Team2_Project\")\\\n",
    "    .config('spark.executor.memory', '6g')\\\n",
    "    .config(\"spark.driver.memory\", \"5g\")\\\n",
    "    .config(\"spark.executor.cores\",4)\\\n",
    "    .getOrCreate()\n",
    "\n",
    "# spark context (old RDD)\n",
    "sc = spark.sparkContext"
   ]
  },
  {
   "cell_type": "markdown",
   "metadata": {},
   "source": [
    "## Experiment 1: Business Data"
   ]
  },
  {
   "cell_type": "markdown",
   "metadata": {},
   "source": [
    "### Load and Preprocess Data"
   ]
  },
  {
   "cell_type": "code",
   "execution_count": 3,
   "metadata": {},
   "outputs": [
    {
     "name": "stdout",
     "output_type": "stream",
     "text": [
      "root\n",
      " |-- address: string (nullable = true)\n",
      " |-- attributes: struct (nullable = true)\n",
      " |    |-- AcceptsInsurance: string (nullable = true)\n",
      " |    |-- AgesAllowed: string (nullable = true)\n",
      " |    |-- Alcohol: string (nullable = true)\n",
      " |    |-- Ambience: string (nullable = true)\n",
      " |    |-- BYOB: string (nullable = true)\n",
      " |    |-- BYOBCorkage: string (nullable = true)\n",
      " |    |-- BestNights: string (nullable = true)\n",
      " |    |-- BikeParking: string (nullable = true)\n",
      " |    |-- BusinessAcceptsBitcoin: string (nullable = true)\n",
      " |    |-- BusinessAcceptsCreditCards: string (nullable = true)\n",
      " |    |-- BusinessParking: string (nullable = true)\n",
      " |    |-- ByAppointmentOnly: string (nullable = true)\n",
      " |    |-- Caters: string (nullable = true)\n",
      " |    |-- CoatCheck: string (nullable = true)\n",
      " |    |-- Corkage: string (nullable = true)\n",
      " |    |-- DietaryRestrictions: string (nullable = true)\n",
      " |    |-- DogsAllowed: string (nullable = true)\n",
      " |    |-- DriveThru: string (nullable = true)\n",
      " |    |-- GoodForDancing: string (nullable = true)\n",
      " |    |-- GoodForKids: string (nullable = true)\n",
      " |    |-- GoodForMeal: string (nullable = true)\n",
      " |    |-- HairSpecializesIn: string (nullable = true)\n",
      " |    |-- HappyHour: string (nullable = true)\n",
      " |    |-- HasTV: string (nullable = true)\n",
      " |    |-- Music: string (nullable = true)\n",
      " |    |-- NoiseLevel: string (nullable = true)\n",
      " |    |-- Open24Hours: string (nullable = true)\n",
      " |    |-- OutdoorSeating: string (nullable = true)\n",
      " |    |-- RestaurantsAttire: string (nullable = true)\n",
      " |    |-- RestaurantsCounterService: string (nullable = true)\n",
      " |    |-- RestaurantsDelivery: string (nullable = true)\n",
      " |    |-- RestaurantsGoodForGroups: string (nullable = true)\n",
      " |    |-- RestaurantsPriceRange2: string (nullable = true)\n",
      " |    |-- RestaurantsReservations: string (nullable = true)\n",
      " |    |-- RestaurantsTableService: string (nullable = true)\n",
      " |    |-- RestaurantsTakeOut: string (nullable = true)\n",
      " |    |-- Smoking: string (nullable = true)\n",
      " |    |-- WheelchairAccessible: string (nullable = true)\n",
      " |    |-- WiFi: string (nullable = true)\n",
      " |-- business_id: string (nullable = true)\n",
      " |-- categories: string (nullable = true)\n",
      " |-- city: string (nullable = true)\n",
      " |-- hours: struct (nullable = true)\n",
      " |    |-- Friday: string (nullable = true)\n",
      " |    |-- Monday: string (nullable = true)\n",
      " |    |-- Saturday: string (nullable = true)\n",
      " |    |-- Sunday: string (nullable = true)\n",
      " |    |-- Thursday: string (nullable = true)\n",
      " |    |-- Tuesday: string (nullable = true)\n",
      " |    |-- Wednesday: string (nullable = true)\n",
      " |-- is_open: long (nullable = true)\n",
      " |-- latitude: double (nullable = true)\n",
      " |-- longitude: double (nullable = true)\n",
      " |-- name: string (nullable = true)\n",
      " |-- postal_code: string (nullable = true)\n",
      " |-- review_count: long (nullable = true)\n",
      " |-- stars: double (nullable = true)\n",
      " |-- state: string (nullable = true)\n",
      "\n",
      "+--------------------+--------------------+--------------------+--------------------+-----------+--------------------+-------+-------------+---------------+--------------------+-----------+------------+-----+-----+\n",
      "|             address|          attributes|         business_id|          categories|       city|               hours|is_open|     latitude|      longitude|                name|postal_code|review_count|stars|state|\n",
      "+--------------------+--------------------+--------------------+--------------------+-----------+--------------------+-------+-------------+---------------+--------------------+-----------+------------+-----+-----+\n",
      "|2818 E Camino Ace...|[,,,,,,,,,,,,,,,,...|1SWheh84yJXfytovI...|   Golf, Active Life|    Phoenix|                null|      0|   33.5221425|   -112.0184807|Arizona Biltmore ...|      85016|           5|  3.0|   AZ|\n",
      "|30 Eglinton Avenue W|[,, u'full_bar', ...|QXAEGFB4oINsVuTFx...|Specialty Food, R...|Mississauga|[9:0-1:0, 9:0-0:0...|      1|43.6054989743|  -79.652288909|Emerald Chinese R...|    L5R 3E7|         128|  2.5|   ON|\n",
      "|10110 Johnston Rd...|[,, u'beer_and_wi...|gnKjwL_1w79qoiV3I...|Sushi Bars, Resta...|  Charlotte|[17:30-22:0, 17:3...|      1|    35.092564|     -80.859132|Musashi Japanese ...|      28210|         170|  4.0|   NC|\n",
      "|15655 W Roosevelt...|                null|xvX2CttrVhyG2z1dF...|Insurance, Financ...|   Goodyear|[8:0-17:0, 8:0-17...|      1|33.4556129678|-112.3955963552|Farmers Insurance...|      85338|           3|  5.0|   AZ|\n",
      "|4209 Stuart Andre...|[,,,,,,,, False, ...|HhyxOkGAM07SRYtlQ...|Plumbing, Shoppin...|  Charlotte|[7:0-23:0, 7:0-23...|      1|   35.1900119|    -80.8872232| Queen City Plumbing|      28217|           4|  4.0|   NC|\n",
      "+--------------------+--------------------+--------------------+--------------------+-----------+--------------------+-------+-------------+---------------+--------------------+-----------+------------+-----+-----+\n",
      "only showing top 5 rows\n",
      "\n"
     ]
    }
   ],
   "source": [
    "# read the CSV as a dataframe (REMOTE/HDFS FILE)\n",
    "# df = spark_session.read\\\n",
    "#     .option(\"header\", \"true\")\\\n",
    "#     .csv(\"hdfs://192.168.1.153:9000/parking-citations.csv\")\\\n",
    "#     .cache()\n",
    "\n",
    "# LOCAL \n",
    "# read JSON file\n",
    "business = spark.read.json(\"./data/yelp_academic_dataset_business.json\")\n",
    "\n",
    "# the inferred schema can be visualized using the printSchema() method\n",
    "business.printSchema()\n",
    "\n",
    "# show top 5 rows\n",
    "business.show(5)"
   ]
  },
  {
   "cell_type": "code",
   "execution_count": 4,
   "metadata": {},
   "outputs": [
    {
     "name": "stdout",
     "output_type": "stream",
     "text": [
      "Rows in Business Dataframe:\t 192609\n",
      "Number of Partitions:\t\t 4\n"
     ]
    }
   ],
   "source": [
    "# the number of rows\n",
    "print(\"Rows in Business Dataframe:\\t\", business.count())\n",
    "\n",
    "# the number of RDD partitions\n",
    "print(\"Number of Partitions:\\t\\t\", business.rdd.getNumPartitions())"
   ]
  },
  {
   "cell_type": "code",
   "execution_count": null,
   "metadata": {},
   "outputs": [],
   "source": [
    "# Creates a temporary view using the DataFrame\n",
    "# df.createOrReplaceTempView(\"test\")\n",
    "\n",
    "# SQL statements can be run by using the sql methods provided by spark\n",
    "# testdf = spark.sql(\"SELECT name, stars, review_count, hours FROM test WHERE stars BETWEEN 4 AND 5\")\n",
    "# testdf.show()\n",
    "\n",
    "# SQL statements can be run by using the sql methods provided by spark\n",
    "# testdf2 = spark.sql(\"SELECT name, stars, review_count, hours FROM test\")\n",
    "# testdf2.show()"
   ]
  },
  {
   "cell_type": "markdown",
   "metadata": {},
   "source": [
    "### Experiment 1: Sort all business according to stars and review_count"
   ]
  },
  {
   "cell_type": "code",
   "execution_count": 10,
   "metadata": {},
   "outputs": [
    {
     "name": "stdout",
     "output_type": "stream",
     "text": [
      "Name:\tLittle Miss ,\tStars:\t5.0,\tReview Count:\t1936\n",
      "Name:\tBrew Tea Bar,\tStars:\t5.0,\tReview Count:\t1506\n",
      "Name:\tEco-Tint,\tStars:\t5.0,\tReview Count:\t679\n",
      "Name:\tParanormal -,\tStars:\t5.0,\tReview Count:\t662\n",
      "Name:\tCarpet Monke,\tStars:\t5.0,\tReview Count:\t552\n",
      "Name:\tWorth Takeaw,\tStars:\t5.0,\tReview Count:\t552\n",
      "Name:\tPoke Express,\tStars:\t5.0,\tReview Count:\t543\n",
      "Name:\tFabulous Eye,\tStars:\t5.0,\tReview Count:\t537\n",
      "Name:\tBattlefield ,\tStars:\t5.0,\tReview Count:\t470\n",
      "Name:\tHUMMUS,\tStars:\t5.0,\tReview Count:\t459\n",
      "\n",
      "The evaluation took: 0.060001373291015625 seconds\n"
     ]
    }
   ],
   "source": [
    "# top businesses according to starts and review_count\n",
    "start_time = time.time()\n",
    "result = business.filter(business.stars >= 4.0).sort(\"stars\", \"review_count\", ascending=[0,0])\n",
    "end_time = time.time()\n",
    "\n",
    "for row in result.head(10):\n",
    "    name, stars, rc = row[\"name\"], row[\"stars\"], row[\"review_count\"]\n",
    "    print(\"Name:\\t{},\\tStars:\\t{},\\tReview Count:\\t{}\".format(name[:12], stars, rc))\n",
    "    \n",
    "print(\"\\nThe evaluation took: {} seconds\".format(end_time - start_time))"
   ]
  },
  {
   "cell_type": "markdown",
   "metadata": {},
   "source": [
    "## Experiment 2: User Data"
   ]
  },
  {
   "cell_type": "markdown",
   "metadata": {},
   "source": [
    "### Load User Data & Preprocess"
   ]
  },
  {
   "cell_type": "code",
   "execution_count": 11,
   "metadata": {},
   "outputs": [
    {
     "name": "stdout",
     "output_type": "stream",
     "text": [
      "root\n",
      " |-- average_stars: double (nullable = true)\n",
      " |-- compliment_cool: long (nullable = true)\n",
      " |-- compliment_cute: long (nullable = true)\n",
      " |-- compliment_funny: long (nullable = true)\n",
      " |-- compliment_hot: long (nullable = true)\n",
      " |-- compliment_list: long (nullable = true)\n",
      " |-- compliment_more: long (nullable = true)\n",
      " |-- compliment_note: long (nullable = true)\n",
      " |-- compliment_photos: long (nullable = true)\n",
      " |-- compliment_plain: long (nullable = true)\n",
      " |-- compliment_profile: long (nullable = true)\n",
      " |-- compliment_writer: long (nullable = true)\n",
      " |-- cool: long (nullable = true)\n",
      " |-- elite: string (nullable = true)\n",
      " |-- fans: long (nullable = true)\n",
      " |-- friends: string (nullable = true)\n",
      " |-- funny: long (nullable = true)\n",
      " |-- name: string (nullable = true)\n",
      " |-- review_count: long (nullable = true)\n",
      " |-- useful: long (nullable = true)\n",
      " |-- user_id: string (nullable = true)\n",
      " |-- yelping_since: string (nullable = true)\n",
      "\n",
      "Rows in Users Dataframe:\t 1637138\n",
      "Number of Partitions:\t\t 19\n"
     ]
    }
   ],
   "source": [
    "# LOCAL \n",
    "# read JSON file\n",
    "users = spark.read.json(\"./data/yelp_academic_dataset_user.json\")\n",
    "\n",
    "# the inferred schema can be visualized using the printSchema() method\n",
    "users.printSchema()\n",
    "\n",
    "# the number of rows\n",
    "print(\"Rows in Users Dataframe:\\t\", users.count())\n",
    "\n",
    "# the number of RDD partitions\n",
    "print(\"Number of Partitions:\\t\\t\", users.rdd.getNumPartitions())"
   ]
  },
  {
   "cell_type": "code",
   "execution_count": 15,
   "metadata": {},
   "outputs": [],
   "source": [
    "from pyspark.sql.functions import col, udf\n",
    "from pyspark.sql.types import StringType, IntegerType\n",
    "\n",
    "# use udf to define a row-at-a-time udf\n",
    "def count_friends(line):\n",
    "    # lowercase transformation\n",
    "    # splitting into tokens/words\n",
    "    return len(line.lower().split(', '))\n",
    "\n",
    "# count the number of friends per user and add the value as a new column\n",
    "count_friends = udf(count_friends, IntegerType())"
   ]
  },
  {
   "cell_type": "markdown",
   "metadata": {},
   "source": [
    "### Experiment 2: Sorting dataset according \"review_count\", \"useful\", \"fans\" and couting the number of friends per reviewer and sorting according to the number."
   ]
  },
  {
   "cell_type": "code",
   "execution_count": 19,
   "metadata": {},
   "outputs": [
    {
     "name": "stdout",
     "output_type": "stream",
     "text": [
      "Top 5 Reviewers by Review Count!\n",
      "Name:\tVictor\tReview Count:\t13278\tYelping Since:\t2007-12-08 14:56:45\n",
      "Name:\tShila\tReview Count:\t12390\tYelping Since:\t2010-10-17 06:35:06\n",
      "Name:\tBruce\tReview Count:\t10022\tYelping Since:\t2009-03-08 21:47:44\n",
      "Name:\tKim\tReview Count:\t9821\tYelping Since:\t2006-05-31 21:27:42\n",
      "Name:\tGeorge\tReview Count:\t7750\tYelping Since:\t2009-11-06 22:53:16\n",
      "\n",
      "Top 5 Most Useful Reviews by Reviewer!\n",
      "Name:\tHarald\tUseful Reviews:\t154202\tReview Count:\t1350\tYelping Since:\t2012-11-27 14:19:33\n",
      "Name:\tRichard\tUseful Reviews:\t99162\tReview Count:\t1086\tYelping Since:\t2009-08-23 13:03:27\n",
      "Name:\tMaggie\tUseful Reviews:\t89792\tReview Count:\t2830\tYelping Since:\t2008-11-30 02:47:32\n",
      "Name:\tFox\tUseful Reviews:\t89418\tReview Count:\t6407\tYelping Since:\t2009-05-26 11:33:58\n",
      "Name:\tRohlin\tUseful Reviews:\t81003\tReview Count:\t875\tYelping Since:\t2010-01-11 01:50:32\n",
      "\n",
      "Top 5 Reviewers with most Fans!\n",
      "Name:\tMike\tFans:\t9538\tUseful Reviews:\t19715\tReview Count:\t1634\tYelping Since:\t2009-04-25 14:54:26\n",
      "Name:\tKatie\tFans:\t2964\tUseful Reviews:\t37796\tReview Count:\t1448\tYelping Since:\t2009-05-22 20:19:55\n",
      "Name:\tCherylynn\tFans:\t2434\tUseful Reviews:\t78888\tReview Count:\t2190\tYelping Since:\t2008-01-20 06:27:03\n",
      "Name:\tRuggy\tFans:\t2383\tUseful Reviews:\t35029\tReview Count:\t2411\tYelping Since:\t2007-07-31 14:47:00\n",
      "Name:\tDaniel\tFans:\t2132\tUseful Reviews:\t30279\tReview Count:\t3177\tYelping Since:\t2009-01-25 04:35:42\n",
      "\n",
      "Top 5 Reviewers with most Friends!\n",
      "Name:\tMike\tFriends:\t9538\tFans:\t5591\tYelping Since:\t2009-04-25 14:54:26\n",
      "Name:\tKatie\tFriends:\t2964\tFans:\t6852\tYelping Since:\t2009-05-22 20:19:55\n",
      "Name:\tCherylynn\tFriends:\t2434\tFans:\t5637\tYelping Since:\t2008-01-20 06:27:03\n",
      "Name:\tRuggy\tFriends:\t2383\tFans:\t12200\tYelping Since:\t2007-07-31 14:47:00\n",
      "Name:\tDaniel\tFriends:\t2132\tFans:\t3408\tYelping Since:\t2009-01-25 04:35:42\n",
      "\n",
      "The evaluation took: 58.850 seconds\n"
     ]
    }
   ],
   "source": [
    "start_time = time.time()\n",
    "\n",
    "# # top reviewers\n",
    "top_reviewers = users.sort(\"review_count\", ascending=False).head(20)\n",
    "\n",
    "# # top useful reviews\n",
    "top_useful_reviews = users.sort(\"useful\", \"review_count\", ascending=[0,0]).head(20)\n",
    "\n",
    "# top # of fans per reviewer\n",
    "top_fan_count = users.sort(\"fans\", \"useful\", ascending=[0,0]).head(20)\n",
    "\n",
    "# count the number of friends per reviewer\n",
    "users = users.withColumn(\"friendsCount\", count_friends(col(\"friends\")))\n",
    "\n",
    "# top # of friends per reviewer\n",
    "top_friends = users.sort(\"friendsCount\", \"fans\", ascending=[0,0]).head(20)\n",
    "\n",
    "end_time = time.time()\n",
    "\n",
    "print(\"Top 5 Reviewers by Review Count!\")\n",
    "for row in top_reviewers[:5]:\n",
    "    name, since, rc = row[\"name\"], row[\"yelping_since\"], row[\"review_count\"]\n",
    "    print(\"Name:\\t{}\\tReview Count:\\t{}\\tYelping Since:\\t{}\".format(name, rc, since))\n",
    "    \n",
    "print(\"\\nTop 5 Most Useful Reviews by Reviewer!\")\n",
    "for row in top_useful_reviews[:5]:\n",
    "    name, since, rc, useful = row[\"name\"], row[\"yelping_since\"], row[\"review_count\"], row[\"useful\"]\n",
    "    print(\"Name:\\t{}\\tUseful Reviews:\\t{}\\tReview Count:\\t{}\\tYelping Since:\\t{}\".format(name, useful, rc, since))\n",
    "    \n",
    "print(\"\\nTop 5 Reviewers with most Fans!\")\n",
    "for row in top_fan_count[:5]:\n",
    "    name, since, rc, useful, fans = row[\"name\"], row[\"yelping_since\"], row[\"review_count\"], row[\"useful\"], row[\"fans\"]\n",
    "    print(\"Name:\\t{}\\tFans:\\t{}\\tUseful Reviews:\\t{}\\tReview Count:\\t{}\\tYelping Since:\\t{}\".format(name, fans, useful, rc, since))\n",
    "    \n",
    "print(\"\\nTop 5 Reviewers with most Friends!\")\n",
    "for row in top_fan_count[:5]:\n",
    "    name, since, fc, fans = row[\"name\"], row[\"yelping_since\"], row[\"friendsCount\"], row[\"fans\"]\n",
    "    print(\"Name:\\t{}\\tFriends:\\t{}\\tFans:\\t{}\\tYelping Since:\\t{}\".format(name, fans, fc, since))\n",
    "    \n",
    "print(\"\\nThe evaluation took: {:3.3f} seconds\".format(end_time - start_time))"
   ]
  },
  {
   "cell_type": "markdown",
   "metadata": {},
   "source": [
    "## Experiment 3: Reviews"
   ]
  },
  {
   "cell_type": "markdown",
   "metadata": {},
   "source": [
    "### Load User Data & Preprocess"
   ]
  },
  {
   "cell_type": "code",
   "execution_count": 20,
   "metadata": {},
   "outputs": [
    {
     "name": "stdout",
     "output_type": "stream",
     "text": [
      "root\n",
      " |-- business_id: string (nullable = true)\n",
      " |-- cool: long (nullable = true)\n",
      " |-- date: string (nullable = true)\n",
      " |-- funny: long (nullable = true)\n",
      " |-- review_id: string (nullable = true)\n",
      " |-- stars: double (nullable = true)\n",
      " |-- text: string (nullable = true)\n",
      " |-- useful: long (nullable = true)\n",
      " |-- user_id: string (nullable = true)\n",
      "\n",
      "Rows in Reviews Dataframe:\t 1000001\n",
      "Number of Partitions:\t\t 6\n"
     ]
    }
   ],
   "source": [
    "# LOCAL \n",
    "# read JSON file\n",
    "reviews = spark.read.json(\"./data/reviews_1000000.json\")\n",
    "\n",
    "# the inferred schema can be visualized using the printSchema() method\n",
    "reviews.printSchema()\n",
    "\n",
    "# the number of rows\n",
    "print(\"Rows in Reviews Dataframe:\\t\", reviews.count())\n",
    "\n",
    "# the number of RDD partitions\n",
    "print(\"Number of Partitions:\\t\\t\", reviews.rdd.getNumPartitions())"
   ]
  },
  {
   "cell_type": "markdown",
   "metadata": {},
   "source": [
    "### Experiment 3: Preprocessing of Reviews & Join with Businesses "
   ]
  },
  {
   "cell_type": "code",
   "execution_count": 23,
   "metadata": {},
   "outputs": [
    {
     "name": "stdout",
     "output_type": "stream",
     "text": [
      "+---------------------------+----------------------+---------------------------------------------------------------------+---------+-------+----------+------------+----------------------+-----------+------------+-----+-----+----------------------+----+-------------------+-----+----------------------+-----+-------------------------------------------------------------------------------------------------------------------------------------------------------------------------------------------------------------------------------------------------------------------------------------------------------------------------------------------------------------------------------------------------------------------------------------------------------------------------------------------------------------------------------------------------------+------+----------------------+\n",
      "|address                    |business_id           |categories                                                           |city     |is_open|latitude  |longitude   |name                  |postal_code|review_count|stars|state|business_id           |cool|date               |funny|review_id             |stars|text                                                                                                                                                                                                                                                                                                                                                                                                                                                                                                                                                   |useful|user_id               |\n",
      "+---------------------------+----------------------+---------------------------------------------------------------------+---------+-------+----------+------------+----------------------+-----------+------------+-----+-----+----------------------+----+-------------------+-----+----------------------+-----+-------------------------------------------------------------------------------------------------------------------------------------------------------------------------------------------------------------------------------------------------------------------------------------------------------------------------------------------------------------------------------------------------------------------------------------------------------------------------------------------------------------------------------------------------------+------+----------------------+\n",
      "|3355 Las Vegas Blvd S      |--9e1ONYQuAa-CB_Rrw7Tw|Cajun/Creole, Seafood, Steakhouses, Restaurants                      |Las Vegas|1      |36.123183 |-115.16919  |Delmonico Steakhouse  |89109      |1613        |4.0  |NV   |null                  |null|null               |null |null                  |null |null                                                                                                                                                                                                                                                                                                                                                                                                                                                                                                                                                   |null  |null                  |\n",
      "|2131 Lake Shore Boulevard W|-6c_bJblLXUwoWfmYLtH_w|Pet Services, Pet Sitting, Pet Groomers, Pet Stores, Pets            |Toronto  |1      |43.6267627|-79.4790443 |Neo-Paws International|M8V 0B3    |9           |2.5  |ON   |null                  |null|null               |null |null                  |null |null                                                                                                                                                                                                                                                                                                                                                                                                                                                                                                                                                   |null  |null                  |\n",
      "|6230 W Desert Inn Rd       |-ElDqujEn1u64ynQr0bX7g|Lawyers, Real Estate Law, Professional Services, Divorce & Family Law|Las Vegas|1      |36.1298777|-115.2277697|McFarling Law Group   |89146      |15          |4.0  |NV   |-ElDqujEn1u64ynQr0bX7g|0   |2017-11-21 01:44:35|0    |fhLVridc7R89zNgxdsOKBg|5.0  |['emily', 'and', 'the', 'staff', 'at', 'mcfarling', 'law', 'treated', 'me', 'with', 'the', 'utmost', 'respect', 'and', 'was', 'instrumental', 'in', 'my', 'child', 'custody', 'case,', 'helping', 'me', 'gain', 'sole', 'custody', 'of', 'my', 'children,', 'colton', 'and', 'tanner.', '', 'the', 'entire', 'staff', 'was', 'friendly', 'and', 'professional', 'from', 'start', 'to', 'finish.', '', 'thank', 'you', 'so', 'much.', '', \"they've\", 'done', 'everything', 'in', 'their', 'power', 'to', 'make', 'my', 'children', 'and', 'i', 'happy!']|0     |y3A1ps4kDzC19xG528Ap-g|\n",
      "+---------------------------+----------------------+---------------------------------------------------------------------+---------+-------+----------+------------+----------------------+-----------+------------+-----+-----+----------------------+----+-------------------+-----+----------------------+-----+-------------------------------------------------------------------------------------------------------------------------------------------------------------------------------------------------------------------------------------------------------------------------------------------------------------------------------------------------------------------------------------------------------------------------------------------------------------------------------------------------------------------------------------------------------+------+----------------------+\n",
      "only showing top 3 rows\n",
      "\n",
      "\n",
      "The evaluation took: 19.739 seconds\n"
     ]
    }
   ],
   "source": [
    "from pyspark.sql.functions import col, udf\n",
    "from pyspark.sql.types import StringType\n",
    "\n",
    "# use udf to define a row-at-a-time udf\n",
    "def preprocess(line):\n",
    "    # lowercase transformation\n",
    "    # splitting into tokens/words\n",
    "    tokens = line.lower().split(' ')\n",
    "    tokens = [token.strip() for token in tokens]\n",
    "    # TODO: do more fancy preprocessing (e.g., using NLTK or SpaCy to stem and remove stopwords)\n",
    "    return str(tokens)\n",
    "\n",
    "# tokenize preprocessing udf\n",
    "tok = udf(preprocess, StringType())\n",
    "\n",
    "start_time = time.time()\n",
    "\n",
    "# preprocess reviews\n",
    "pr_reviews = reviews.withColumn(\"text\", tok(col(\"text\")))\n",
    "pr_reviews.drop('user_id', 'review_id')\n",
    "\n",
    "# print first three rows\n",
    "# pr_reviews.show(5, False)\n",
    "\n",
    "# join business and reviews\n",
    "merged = business.join(pr_reviews, business.business_id == pr_reviews.business_id, 'left_outer').drop('attributes', 'hours')\n",
    "merged.show(3, False)\n",
    "\n",
    "end_time = time.time()\n",
    "    \n",
    "print(\"\\nThe evaluation took: {:3.3f} seconds\".format(end_time - start_time))"
   ]
  },
  {
   "cell_type": "markdown",
   "metadata": {},
   "source": [
    "## Shutdown"
   ]
  },
  {
   "cell_type": "code",
   "execution_count": 24,
   "metadata": {},
   "outputs": [],
   "source": [
    "# release the cores for another application!\n",
    "spark.stop()\n",
    "sc.stop()"
   ]
  },
  {
   "cell_type": "code",
   "execution_count": null,
   "metadata": {},
   "outputs": [],
   "source": []
  }
 ],
 "metadata": {
  "kernelspec": {
   "display_name": "Python 3",
   "language": "python",
   "name": "python3"
  },
  "language_info": {
   "codemirror_mode": {
    "name": "ipython",
    "version": 3
   },
   "file_extension": ".py",
   "mimetype": "text/x-python",
   "name": "python",
   "nbconvert_exporter": "python",
   "pygments_lexer": "ipython3",
   "version": "3.7.3"
  }
 },
 "nbformat": 4,
 "nbformat_minor": 2
}
