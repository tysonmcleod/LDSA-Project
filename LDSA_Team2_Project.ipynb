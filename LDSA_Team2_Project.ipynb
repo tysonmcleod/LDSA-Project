{
 "cells": [
  {
   "cell_type": "markdown",
   "metadata": {},
   "source": [
    "# LDAS: Project - Team 2\n",
    "Moritz Eck, moritz.eck.0055@student.uu.se<br>\n",
    "Tyson McLeod, <br>\n",
    "Isaline Baret, <br>\n",
    "Markella-Achilleia Zacharouli, <br>"
   ]
  },
  {
   "cell_type": "markdown",
   "metadata": {},
   "source": [
    "## Setup & Deploy"
   ]
  },
  {
   "cell_type": "code",
   "execution_count": 1,
   "metadata": {},
   "outputs": [],
   "source": [
    "from pyspark.sql import SparkSession\n",
    "import matplotlib.pyplot as plt\n",
    "import time"
   ]
  },
  {
   "cell_type": "code",
   "execution_count": 2,
   "metadata": {},
   "outputs": [],
   "source": [
    "# start your application with dynamic allocation enabled, a timeout of no more than 30 seconds and a cap on CPU cores:\n",
    "# REMOTE SESSION\n",
    "# spark = SparkSession\\\n",
    "#        .builder\\\n",
    "#        .master(\"spark://192.168.1.153:7077\") \\\n",
    "#        .appName(\"LDSA_Team2_Project\")\\\n",
    "#        .config(\"spark.dynamicAllocation.enabled\", True)\\\n",
    "#        .config(\"spark.shuffle.service.enabled\", True)\\\n",
    "#        .config(\"spark.dynamicAllocation.executorIdleTimeout\",\"30s\")\\\n",
    "#        .config(\"spark.executor.cores\",4)\\\n",
    "#        .config(\"spark.files\", \"./data/heart.csv\")\\\n",
    "#        .getOrCreate()\n",
    "\n",
    "# LOCAL SESSION\n",
    "spark = SparkSession\\\n",
    "    .builder.master(\"local[4]\")\\\n",
    "    .appName(\"LDSA_Team2_Project\")\\\n",
    "    .config('spark.executor.memory', '6g')\\\n",
    "    .config(\"spark.driver.memory\", \"5g\")\\\n",
    "    .config(\"spark.executor.cores\",4)\\\n",
    "    .getOrCreate()\n",
    "\n",
    "# spark context (old RDD)\n",
    "sc = spark.sparkContext"
   ]
  },
  {
   "cell_type": "markdown",
   "metadata": {},
   "source": [
    "## Experiment 1: Business Data"
   ]
  },
  {
   "cell_type": "markdown",
   "metadata": {},
   "source": [
    "### Load and Preprocess Data"
   ]
  },
  {
   "cell_type": "code",
   "execution_count": 5,
   "metadata": {},
   "outputs": [
    {
     "name": "stdout",
     "output_type": "stream",
     "text": [
      "root\n",
      " |-- address: string (nullable = true)\n",
      " |-- attributes: struct (nullable = true)\n",
      " |    |-- AcceptsInsurance: string (nullable = true)\n",
      " |    |-- AgesAllowed: string (nullable = true)\n",
      " |    |-- Alcohol: string (nullable = true)\n",
      " |    |-- Ambience: string (nullable = true)\n",
      " |    |-- BYOB: string (nullable = true)\n",
      " |    |-- BYOBCorkage: string (nullable = true)\n",
      " |    |-- BestNights: string (nullable = true)\n",
      " |    |-- BikeParking: string (nullable = true)\n",
      " |    |-- BusinessAcceptsBitcoin: string (nullable = true)\n",
      " |    |-- BusinessAcceptsCreditCards: string (nullable = true)\n",
      " |    |-- BusinessParking: string (nullable = true)\n",
      " |    |-- ByAppointmentOnly: string (nullable = true)\n",
      " |    |-- Caters: string (nullable = true)\n",
      " |    |-- CoatCheck: string (nullable = true)\n",
      " |    |-- Corkage: string (nullable = true)\n",
      " |    |-- DietaryRestrictions: string (nullable = true)\n",
      " |    |-- DogsAllowed: string (nullable = true)\n",
      " |    |-- DriveThru: string (nullable = true)\n",
      " |    |-- GoodForDancing: string (nullable = true)\n",
      " |    |-- GoodForKids: string (nullable = true)\n",
      " |    |-- GoodForMeal: string (nullable = true)\n",
      " |    |-- HairSpecializesIn: string (nullable = true)\n",
      " |    |-- HappyHour: string (nullable = true)\n",
      " |    |-- HasTV: string (nullable = true)\n",
      " |    |-- Music: string (nullable = true)\n",
      " |    |-- NoiseLevel: string (nullable = true)\n",
      " |    |-- Open24Hours: string (nullable = true)\n",
      " |    |-- OutdoorSeating: string (nullable = true)\n",
      " |    |-- RestaurantsAttire: string (nullable = true)\n",
      " |    |-- RestaurantsCounterService: string (nullable = true)\n",
      " |    |-- RestaurantsDelivery: string (nullable = true)\n",
      " |    |-- RestaurantsGoodForGroups: string (nullable = true)\n",
      " |    |-- RestaurantsPriceRange2: string (nullable = true)\n",
      " |    |-- RestaurantsReservations: string (nullable = true)\n",
      " |    |-- RestaurantsTableService: string (nullable = true)\n",
      " |    |-- RestaurantsTakeOut: string (nullable = true)\n",
      " |    |-- Smoking: string (nullable = true)\n",
      " |    |-- WheelchairAccessible: string (nullable = true)\n",
      " |    |-- WiFi: string (nullable = true)\n",
      " |-- business_id: string (nullable = true)\n",
      " |-- categories: string (nullable = true)\n",
      " |-- city: string (nullable = true)\n",
      " |-- hours: struct (nullable = true)\n",
      " |    |-- Friday: string (nullable = true)\n",
      " |    |-- Monday: string (nullable = true)\n",
      " |    |-- Saturday: string (nullable = true)\n",
      " |    |-- Sunday: string (nullable = true)\n",
      " |    |-- Thursday: string (nullable = true)\n",
      " |    |-- Tuesday: string (nullable = true)\n",
      " |    |-- Wednesday: string (nullable = true)\n",
      " |-- is_open: long (nullable = true)\n",
      " |-- latitude: double (nullable = true)\n",
      " |-- longitude: double (nullable = true)\n",
      " |-- name: string (nullable = true)\n",
      " |-- postal_code: string (nullable = true)\n",
      " |-- review_count: long (nullable = true)\n",
      " |-- stars: double (nullable = true)\n",
      " |-- state: string (nullable = true)\n",
      "\n",
      "+--------------------+--------------------+--------------------+--------------------+-----------+--------------------+-------+-------------+---------------+--------------------+-----------+------------+-----+-----+\n",
      "|             address|          attributes|         business_id|          categories|       city|               hours|is_open|     latitude|      longitude|                name|postal_code|review_count|stars|state|\n",
      "+--------------------+--------------------+--------------------+--------------------+-----------+--------------------+-------+-------------+---------------+--------------------+-----------+------------+-----+-----+\n",
      "|2818 E Camino Ace...|[,,,,,,,,,,,,,,,,...|1SWheh84yJXfytovI...|   Golf, Active Life|    Phoenix|                null|      0|   33.5221425|   -112.0184807|Arizona Biltmore ...|      85016|           5|  3.0|   AZ|\n",
      "|30 Eglinton Avenue W|[,, u'full_bar', ...|QXAEGFB4oINsVuTFx...|Specialty Food, R...|Mississauga|[9:0-1:0, 9:0-0:0...|      1|43.6054989743|  -79.652288909|Emerald Chinese R...|    L5R 3E7|         128|  2.5|   ON|\n",
      "|10110 Johnston Rd...|[,, u'beer_and_wi...|gnKjwL_1w79qoiV3I...|Sushi Bars, Resta...|  Charlotte|[17:30-22:0, 17:3...|      1|    35.092564|     -80.859132|Musashi Japanese ...|      28210|         170|  4.0|   NC|\n",
      "|15655 W Roosevelt...|                null|xvX2CttrVhyG2z1dF...|Insurance, Financ...|   Goodyear|[8:0-17:0, 8:0-17...|      1|33.4556129678|-112.3955963552|Farmers Insurance...|      85338|           3|  5.0|   AZ|\n",
      "|4209 Stuart Andre...|[,,,,,,,, False, ...|HhyxOkGAM07SRYtlQ...|Plumbing, Shoppin...|  Charlotte|[7:0-23:0, 7:0-23...|      1|   35.1900119|    -80.8872232| Queen City Plumbing|      28217|           4|  4.0|   NC|\n",
      "+--------------------+--------------------+--------------------+--------------------+-----------+--------------------+-------+-------------+---------------+--------------------+-----------+------------+-----+-----+\n",
      "only showing top 5 rows\n",
      "\n"
     ]
    }
   ],
   "source": [
    "# read the CSV as a dataframe (REMOTE/HDFS FILE)\n",
    "# df = spark_session.read\\\n",
    "#     .option(\"header\", \"true\")\\\n",
    "#     .csv(\"hdfs://192.168.1.153:9000/parking-citations.csv\")\\\n",
    "#     .cache()\n",
    "\n",
    "# LOCAL \n",
    "# read JSON file\n",
    "business = spark.read.json(\"./data/yelp_academic_dataset_business.json\").cache()\n",
    "\n",
    "# the inferred schema can be visualized using the printSchema() method\n",
    "business.printSchema()\n",
    "\n",
    "# show top 5 rows\n",
    "business.show(5)"
   ]
  },
  {
   "cell_type": "code",
   "execution_count": 29,
   "metadata": {},
   "outputs": [
    {
     "name": "stdout",
     "output_type": "stream",
     "text": [
      "Rows in Business Dataframe:\t 192609\n",
      "Number of Partitions:\t\t 4\n"
     ]
    }
   ],
   "source": [
    "# the number of rows\n",
    "print(\"Rows in Business Dataframe:\\t\", business.count())\n",
    "\n",
    "# the number of RDD partitions\n",
    "print(\"Number of Partitions:\\t\\t\", business.rdd.getNumPartitions())"
   ]
  },
  {
   "cell_type": "code",
   "execution_count": null,
   "metadata": {},
   "outputs": [],
   "source": [
    "# Creates a temporary view using the DataFrame\n",
    "# df.createOrReplaceTempView(\"test\")\n",
    "\n",
    "# SQL statements can be run by using the sql methods provided by spark\n",
    "# testdf = spark.sql(\"SELECT name, stars, review_count, hours FROM test WHERE stars BETWEEN 4 AND 5\")\n",
    "# testdf.show()\n",
    "\n",
    "# SQL statements can be run by using the sql methods provided by spark\n",
    "# testdf2 = spark.sql(\"SELECT name, stars, review_count, hours FROM test\")\n",
    "# testdf2.show()"
   ]
  },
  {
   "cell_type": "markdown",
   "metadata": {},
   "source": [
    "### Experiment 1: Sort all business according to stars and review_count"
   ]
  },
  {
   "cell_type": "code",
   "execution_count": 34,
   "metadata": {},
   "outputs": [
    {
     "name": "stdout",
     "output_type": "stream",
     "text": [
      "Name:\tLittle Miss ,\tStars:\t5.0,\tReview Count:\t1936\n",
      "Name:\tBrew Tea Bar,\tStars:\t5.0,\tReview Count:\t1506\n",
      "Name:\tEco-Tint,\tStars:\t5.0,\tReview Count:\t679\n",
      "Name:\tParanormal -,\tStars:\t5.0,\tReview Count:\t662\n",
      "Name:\tWorth Takeaw,\tStars:\t5.0,\tReview Count:\t552\n",
      "Name:\tCarpet Monke,\tStars:\t5.0,\tReview Count:\t552\n",
      "Name:\tPoke Express,\tStars:\t5.0,\tReview Count:\t543\n",
      "Name:\tFabulous Eye,\tStars:\t5.0,\tReview Count:\t537\n",
      "Name:\tBattlefield ,\tStars:\t5.0,\tReview Count:\t470\n",
      "Name:\tHUMMUS,\tStars:\t5.0,\tReview Count:\t459\n",
      "Name:\tDesert Wind ,\tStars:\t5.0,\tReview Count:\t446\n",
      "Name:\tFree Vegas C,\tStars:\t5.0,\tReview Count:\t433\n",
      "Name:\tJust-In Time,\tStars:\t5.0,\tReview Count:\t422\n",
      "Name:\tLegacy Air,\tStars:\t5.0,\tReview Count:\t416\n",
      "Name:\tKodo Sushi S,\tStars:\t5.0,\tReview Count:\t414\n",
      "Name:\tStudio 21 Ta,\tStars:\t5.0,\tReview Count:\t412\n",
      "Name:\tNot Your Typ,\tStars:\t5.0,\tReview Count:\t402\n",
      "Name:\tFINO for MEN,\tStars:\t5.0,\tReview Count:\t387\n",
      "Name:\tNovel Ice Cr,\tStars:\t5.0,\tReview Count:\t386\n",
      "Name:\tZenaida's Ca,\tStars:\t5.0,\tReview Count:\t374\n",
      "\n",
      "The evaluation took: 0.009981870651245117 seconds\n"
     ]
    }
   ],
   "source": [
    "# top businesses according to starts and review_count\n",
    "start_time = time.time()\n",
    "result = business.sort(\"stars\", \"review_count\", ascending=[0,0])\n",
    "end_time = time.time()\n",
    "\n",
    "for row in result.head(20):\n",
    "    name, stars, rc = row[\"name\"], row[\"stars\"], row[\"review_count\"]\n",
    "    print(\"Name:\\t{},\\tStars:\\t{},\\tReview Count:\\t{}\".format(name[:12], stars, rc))\n",
    "    \n",
    "print(\"\\nThe evaluation took: {} seconds\".format(end_time - start_time))"
   ]
  },
  {
   "cell_type": "markdown",
   "metadata": {},
   "source": [
    "## Experiment 2: User Data"
   ]
  },
  {
   "cell_type": "markdown",
   "metadata": {},
   "source": [
    "### Load User Data & Preprocess"
   ]
  },
  {
   "cell_type": "code",
   "execution_count": null,
   "metadata": {},
   "outputs": [],
   "source": [
    "# LOCAL \n",
    "# read JSON file\n",
    "users = spark.read.json(\"./data/yelp_academic_dataset_user.json\")\n",
    "\n",
    "# the inferred schema can be visualized using the printSchema() method\n",
    "users.printSchema()\n",
    "\n",
    "# the number of rows\n",
    "print(\"Rows in Users Dataframe:\\t\", users.count())\n",
    "\n",
    "# the number of RDD partitions\n",
    "print(\"Number of Partitions:\\t\\t\", users.rdd.getNumPartitions())"
   ]
  },
  {
   "cell_type": "code",
   "execution_count": 3,
   "metadata": {},
   "outputs": [
    {
     "name": "stdout",
     "output_type": "stream",
     "text": [
      "root\n",
      " |-- average_stars: double (nullable = true)\n",
      " |-- compliment_cool: long (nullable = true)\n",
      " |-- compliment_cute: long (nullable = true)\n",
      " |-- compliment_funny: long (nullable = true)\n",
      " |-- compliment_hot: long (nullable = true)\n",
      " |-- compliment_list: long (nullable = true)\n",
      " |-- compliment_more: long (nullable = true)\n",
      " |-- compliment_note: long (nullable = true)\n",
      " |-- compliment_photos: long (nullable = true)\n",
      " |-- compliment_plain: long (nullable = true)\n",
      " |-- compliment_profile: long (nullable = true)\n",
      " |-- compliment_writer: long (nullable = true)\n",
      " |-- cool: long (nullable = true)\n",
      " |-- elite: string (nullable = true)\n",
      " |-- fans: long (nullable = true)\n",
      " |-- friends: string (nullable = true)\n",
      " |-- funny: long (nullable = true)\n",
      " |-- name: string (nullable = true)\n",
      " |-- review_count: long (nullable = true)\n",
      " |-- useful: long (nullable = true)\n",
      " |-- user_id: string (nullable = true)\n",
      " |-- yelping_since: string (nullable = true)\n",
      "\n",
      "+-------------+---------------+---------------+----------------+--------------+---------------+---------------+---------------+-----------------+----------------+------------------+-----------------+----+--------------+----+--------------------+-----+------+------------+------+--------------------+-------------------+\n",
      "|average_stars|compliment_cool|compliment_cute|compliment_funny|compliment_hot|compliment_list|compliment_more|compliment_note|compliment_photos|compliment_plain|compliment_profile|compliment_writer|cool|         elite|fans|             friends|funny|  name|review_count|useful|             user_id|      yelping_since|\n",
      "+-------------+---------------+---------------+----------------+--------------+---------------+---------------+---------------+-----------------+----------------+------------------+-----------------+----+--------------+----+--------------------+-----+------+------------+------+--------------------+-------------------+\n",
      "|         4.03|              1|              0|               1|             2|              0|              0|              1|                0|               1|                 0|                2|  25|2015,2016,2017|   5|c78V-rj8NQcQjOI8K...|   17|Rashmi|          95|    84|l6BmjZMeQD3rDxWUb...|2013-10-08 23:11:33|\n",
      "|         3.63|              1|              0|               1|             1|              0|              0|              0|                0|               0|                 0|                0|  16|              |   4|kEBTgDvFX754S68Fl...|   22| Jenna|          33|    48|4XChL029mKr5hydo7...|2013-02-21 22:29:06|\n",
      "|         3.71|              0|              0|               0|             0|              0|              0|              1|                0|               0|                 0|                0|  10|              |   0|4N-HU_T32hLENLnts...|    8| David|          16|    28|bc8C_eETBWL0olvFS...|2013-10-04 00:16:10|\n",
      "+-------------+---------------+---------------+----------------+--------------+---------------+---------------+---------------+-----------------+----------------+------------------+-----------------+----+--------------+----+--------------------+-----+------+------------+------+--------------------+-------------------+\n",
      "only showing top 3 rows\n",
      "\n",
      "Rows in Users Dataframe:\t 1637138\n",
      "Number of Partitions:\t\t 19\n"
     ]
    }
   ],
   "source": [
    "from pyspark.sql.functions import col, udf\n",
    "from pyspark.sql.types import StringType, IntegerType\n",
    "\n",
    "# use udf to define a row-at-a-time udf\n",
    "def count_friends(line):\n",
    "    # lowercase transformation\n",
    "    # splitting into tokens/words\n",
    "    return len(line.lower().split(', '))\n",
    "\n",
    "# count the number of friends per user and add the value as a new column\n",
    "count_friends = udf(count_friends, IntegerType())\n",
    "users = users.withColumn(\"friendsCount\", count_friends(col(\"friends\")))\n",
    "\n",
    "# print first three rows\n",
    "print(users.show(3))"
   ]
  },
  {
   "cell_type": "markdown",
   "metadata": {},
   "source": [
    "### Experiment 2: Sorting dataset according to different fields"
   ]
  },
  {
   "cell_type": "code",
   "execution_count": 6,
   "metadata": {},
   "outputs": [
    {
     "name": "stdout",
     "output_type": "stream",
     "text": [
      "Top 5 Reviewers by Review Count!\n",
      "Name:\tVictor\tReview Count:\t13278\tYelping Since:\t2007-12-08 14:56:45\n",
      "Name:\tShila\tReview Count:\t12390\tYelping Since:\t2010-10-17 06:35:06\n",
      "Name:\tBruce\tReview Count:\t10022\tYelping Since:\t2009-03-08 21:47:44\n",
      "Name:\tKim\tReview Count:\t9821\tYelping Since:\t2006-05-31 21:27:42\n",
      "Name:\tGeorge\tReview Count:\t7750\tYelping Since:\t2009-11-06 22:53:16\n",
      "\n",
      "Top 5 Most Useful Reviews by Reviewer!\n",
      "Name:\tHarald\tUseful Reviews:\t154202\tReview Count:\t1350\tYelping Since:\t2012-11-27 14:19:33\n",
      "Name:\tRichard\tUseful Reviews:\t99162\tReview Count:\t1086\tYelping Since:\t2009-08-23 13:03:27\n",
      "Name:\tMaggie\tUseful Reviews:\t89792\tReview Count:\t2830\tYelping Since:\t2008-11-30 02:47:32\n",
      "Name:\tFox\tUseful Reviews:\t89418\tReview Count:\t6407\tYelping Since:\t2009-05-26 11:33:58\n",
      "Name:\tRohlin\tUseful Reviews:\t81003\tReview Count:\t875\tYelping Since:\t2010-01-11 01:50:32\n",
      "\n",
      "Top 5 Reviewers with most Fans!\n",
      "Name:\tMike\tFans:\t9538\tUseful Reviews:\t19715\tReview Count:\t1634\tYelping Since:\t2009-04-25 14:54:26\n",
      "Name:\tKatie\tFans:\t2964\tUseful Reviews:\t37796\tReview Count:\t1448\tYelping Since:\t2009-05-22 20:19:55\n",
      "Name:\tCherylynn\tFans:\t2434\tUseful Reviews:\t78888\tReview Count:\t2190\tYelping Since:\t2008-01-20 06:27:03\n",
      "Name:\tRuggy\tFans:\t2383\tUseful Reviews:\t35029\tReview Count:\t2411\tYelping Since:\t2007-07-31 14:47:00\n",
      "Name:\tDaniel\tFans:\t2132\tUseful Reviews:\t30279\tReview Count:\t3177\tYelping Since:\t2009-01-25 04:35:42\n",
      "\n",
      "Top 5 Reviewers with most Friends!\n",
      "Name:\tMike\tFriends:\t9538\tFans:\t5591\tYelping Since:\t2009-04-25 14:54:26\n",
      "Name:\tKatie\tFriends:\t2964\tFans:\t6852\tYelping Since:\t2009-05-22 20:19:55\n",
      "Name:\tCherylynn\tFriends:\t2434\tFans:\t5637\tYelping Since:\t2008-01-20 06:27:03\n",
      "Name:\tRuggy\tFriends:\t2383\tFans:\t12200\tYelping Since:\t2007-07-31 14:47:00\n",
      "Name:\tDaniel\tFriends:\t2132\tFans:\t3408\tYelping Since:\t2009-01-25 04:35:42\n",
      "\n",
      "The evaluation took: 24.502 seconds\n"
     ]
    }
   ],
   "source": [
    "start_time = time.time()\n",
    "\n",
    "# # top reviewers\n",
    "top_reviewers = users.sort(\"review_count\", ascending=False).head(20)\n",
    "\n",
    "# # top useful reviews\n",
    "top_useful_reviews = users.sort(\"useful\", \"review_count\", ascending=[0,0]).head(20)\n",
    "\n",
    "# top # of fans per reviewer\n",
    "top_fan_count = users.sort(\"fans\", \"useful\", ascending=[0,0]).head(20)\n",
    "\n",
    "# top # of friends per reviewer\n",
    "top_friends = users.sort(\"friendsCount\", \"fans\", ascending=[0,0]).head(20)\n",
    "\n",
    "end_time = time.time()\n",
    "\n",
    "print(\"Top 5 Reviewers by Review Count!\")\n",
    "for row in top_reviewers[:5]:\n",
    "    name, since, rc = row[\"name\"], row[\"yelping_since\"], row[\"review_count\"]\n",
    "    print(\"Name:\\t{}\\tReview Count:\\t{}\\tYelping Since:\\t{}\".format(name, rc, since))\n",
    "    \n",
    "print(\"\\nTop 5 Most Useful Reviews by Reviewer!\")\n",
    "for row in top_useful_reviews[:5]:\n",
    "    name, since, rc, useful = row[\"name\"], row[\"yelping_since\"], row[\"review_count\"], row[\"useful\"]\n",
    "    print(\"Name:\\t{}\\tUseful Reviews:\\t{}\\tReview Count:\\t{}\\tYelping Since:\\t{}\".format(name, useful, rc, since))\n",
    "    \n",
    "print(\"\\nTop 5 Reviewers with most Fans!\")\n",
    "for row in top_fan_count[:5]:\n",
    "    name, since, rc, useful, fans = row[\"name\"], row[\"yelping_since\"], row[\"review_count\"], row[\"useful\"], row[\"fans\"]\n",
    "    print(\"Name:\\t{}\\tFans:\\t{}\\tUseful Reviews:\\t{}\\tReview Count:\\t{}\\tYelping Since:\\t{}\".format(name, fans, useful, rc, since))\n",
    "    \n",
    "print(\"\\nTop 5 Reviewers with most Friends!\")\n",
    "for row in top_fan_count[:5]:\n",
    "    name, since, fc, fans = row[\"name\"], row[\"yelping_since\"], row[\"friendsCount\"], row[\"fans\"]\n",
    "    print(\"Name:\\t{}\\tFriends:\\t{}\\tFans:\\t{}\\tYelping Since:\\t{}\".format(name, fans, fc, since))\n",
    "    \n",
    "print(\"\\nThe evaluation took: {:3.3f} seconds\".format(end_time - start_time))"
   ]
  },
  {
   "cell_type": "markdown",
   "metadata": {},
   "source": [
    "## Experiment 3: Reviews"
   ]
  },
  {
   "cell_type": "markdown",
   "metadata": {},
   "source": [
    "### Load User Data & Preprocess"
   ]
  },
  {
   "cell_type": "code",
   "execution_count": 19,
   "metadata": {},
   "outputs": [
    {
     "name": "stdout",
     "output_type": "stream",
     "text": [
      "root\n",
      " |-- business_id: string (nullable = true)\n",
      " |-- cool: long (nullable = true)\n",
      " |-- date: string (nullable = true)\n",
      " |-- funny: long (nullable = true)\n",
      " |-- review_id: string (nullable = true)\n",
      " |-- stars: double (nullable = true)\n",
      " |-- text: string (nullable = true)\n",
      " |-- useful: long (nullable = true)\n",
      " |-- user_id: string (nullable = true)\n",
      "\n",
      "Rows in Reviews Dataframe:\t 1000001\n",
      "Number of Partitions:\t\t 6\n"
     ]
    }
   ],
   "source": [
    "# LOCAL \n",
    "# read JSON file\n",
    "reviews = spark.read.json(\"./data/reviews_1000000.json\")\n",
    "\n",
    "# the inferred schema can be visualized using the printSchema() method\n",
    "reviews.printSchema()\n",
    "\n",
    "# the number of rows\n",
    "print(\"Rows in Reviews Dataframe:\\t\", reviews.count())\n",
    "\n",
    "# the number of RDD partitions\n",
    "print(\"Number of Partitions:\\t\\t\", reviews.rdd.getNumPartitions())"
   ]
  },
  {
   "cell_type": "code",
   "execution_count": 24,
   "metadata": {},
   "outputs": [
    {
     "name": "stdout",
     "output_type": "stream",
     "text": [
      "\n",
      "The evaluation took: 0.024 seconds\n",
      "+----------------------+----+-------------------+-----+----------------------+-----+---------------------------------------------------------------------------------------------------------------------------------------------------------------------------------------------------------------------------------------------------------------------------------------------------------------------------------------------------------------------------------------------------------------------------------------------------------------------------------------------------------------------------------------------------------------------------------------------------------------------------------------------------------------------------------------------------------------------------------------------------------------------------------------------------------------------------------------------------------------------------------------------------------------------------------------------------------------------------------------------------------------------------------------------------------------------------------------------------------------------------------------------------------------------------------------------------------------------------------------------------------------------------------------------------------------------------------------------------------------------------------------------------------------------------------------------------------------------------------------------------------------------------------------------------------------------------------------------------------------------------------------------------------------------------------------------------------------------------------------------------------------------------------------------------------------------------------------------------------------------------------------------------------------------------------------------------------------------------------------------------------------------------------------------------------------------------------------------------------------------------------------------------------------------------------------------------------------------------------------------------------------------------------------------------------------------------------------------------------------------------------------------------------------------------------------------------------------------------------------------------------------------------------------------------------------------------------------------------------------------------------------------------------------------------------------------------------------------------------------------------------------------------------------------------------------------------------------------------------------------------------------------------------------------------------------------------------------------------------------------------------------------------------------------------------------------------------------------------------------------------------------------------------------------------------------------------------------------------------------------------------------------------------------------------------------------------------------------------------------------------------------------------------------------------------------------------------------------------------------------------------------------------------------------------------------------------------------------------------------------------------------------------------------------------------------------------------------------------------------------------------------------------------------------------------------------------------------------------------------------------------------------------------------------------------------------------------------------------------------------------------------------------------------------------------------------------------------------------------------------------------------------------------------------------------------------------------------------------------------------------------------------------------------------------------------------------------------------------------------------------------------------------------------------------------------------------------------------------------------------------------------------------------------------------------------------------------------------------------------------------------------------------------------------------------------------------------------------------------------------------------------------------------------------------------------------------------------------------------------------------------------------------------------------------------------------------------------------------------------------------------------------------------------------------------------------------------------------------------------------------------------------------------------------------------------------------------------------------------------------------------------------------------------------------------------------------------------------------------------------------------------------------------------------------------------------------------------------------------------------------------------------------------------------------------------------------------------------------------------------------------------------------------------------------------------------------------------------------------------------------------+------+----------------------+\n",
      "|business_id           |cool|date               |funny|review_id             |stars|text                                                                                                                                                                                                                                                                                                                                                                                                                                                                                                                                                                                                                                                                                                                                                                                                                                                                                                                                                                                                                                                                                                                                                                                                                                                                                                                                                                                                                                                                                                                                                                                                                                                                                                                                                                                                                                                                                                                                                                                                                                                                                                                                                                                                                                                                                                                                                                                                                                                                                                                                                                                                                                                                                                                                                                                                                                                                                                                                                                                                                                                                                                                                                                                                                                                                                                                                                                                                                                                                                                                                                                                                                                                                                                                                                                                                                                                                                                                                                                                                                                                                                                                                                                                                                                                                                                                                                                                                                                                                                                                                                                                                                                                                                                                                                                                                                                                                                                                                                                                                                                                                                                                                                                                                                                                                                                                                                                                                                                                                                                                                                                                                                                                                                                                                                     |useful|user_id               |\n",
      "+----------------------+----+-------------------+-----+----------------------+-----+---------------------------------------------------------------------------------------------------------------------------------------------------------------------------------------------------------------------------------------------------------------------------------------------------------------------------------------------------------------------------------------------------------------------------------------------------------------------------------------------------------------------------------------------------------------------------------------------------------------------------------------------------------------------------------------------------------------------------------------------------------------------------------------------------------------------------------------------------------------------------------------------------------------------------------------------------------------------------------------------------------------------------------------------------------------------------------------------------------------------------------------------------------------------------------------------------------------------------------------------------------------------------------------------------------------------------------------------------------------------------------------------------------------------------------------------------------------------------------------------------------------------------------------------------------------------------------------------------------------------------------------------------------------------------------------------------------------------------------------------------------------------------------------------------------------------------------------------------------------------------------------------------------------------------------------------------------------------------------------------------------------------------------------------------------------------------------------------------------------------------------------------------------------------------------------------------------------------------------------------------------------------------------------------------------------------------------------------------------------------------------------------------------------------------------------------------------------------------------------------------------------------------------------------------------------------------------------------------------------------------------------------------------------------------------------------------------------------------------------------------------------------------------------------------------------------------------------------------------------------------------------------------------------------------------------------------------------------------------------------------------------------------------------------------------------------------------------------------------------------------------------------------------------------------------------------------------------------------------------------------------------------------------------------------------------------------------------------------------------------------------------------------------------------------------------------------------------------------------------------------------------------------------------------------------------------------------------------------------------------------------------------------------------------------------------------------------------------------------------------------------------------------------------------------------------------------------------------------------------------------------------------------------------------------------------------------------------------------------------------------------------------------------------------------------------------------------------------------------------------------------------------------------------------------------------------------------------------------------------------------------------------------------------------------------------------------------------------------------------------------------------------------------------------------------------------------------------------------------------------------------------------------------------------------------------------------------------------------------------------------------------------------------------------------------------------------------------------------------------------------------------------------------------------------------------------------------------------------------------------------------------------------------------------------------------------------------------------------------------------------------------------------------------------------------------------------------------------------------------------------------------------------------------------------------------------------------------------------------------------------------------------------------------------------------------------------------------------------------------------------------------------------------------------------------------------------------------------------------------------------------------------------------------------------------------------------------------------------------------------------------------------------------------------------------------------------------------------------------------------------------+------+----------------------+\n",
      "|ujmEBvifdJM6h6RLv4wQIg|0   |2013-05-07 04:34:36|1    |Q1sbwvVQXV2734tPgoKj4Q|1.0  |['total', 'bill', 'for', 'this', 'horrible', 'service?', 'over', '$8gs.', 'these', 'crooks', 'actually', 'had', 'the', 'nerve', 'to', 'charge', 'us', '$69', 'for', '3', 'pills.', 'i', 'checked', 'online', 'the', 'pills', 'can', 'be', 'had', 'for', '19', 'cents', 'each!', 'avoid', 'hospital', 'ers', 'at', 'all', 'costs.']                                                                                                                                                                                                                                                                                                                                                                                                                                                                                                                                                                                                                                                                                                                                                                                                                                                                                                                                                                                                                                                                                                                                                                                                                                                                                                                                                                                                                                                                                                                                                                                                                                                                                                                                                                                                                                                                                                                                                                                                                                                                                                                                                                                                                                                                                                                                                                                                                                                                                                                                                                                                                                                                                                                                                                                                                                                                                                                                                                                                                                                                                                                                                                                                                                                                                                                                                                                                                                                                                                                                                                                                                                                                                                                                                                                                                                                                                                                                                                                                                                                                                                                                                                                                                                                                                                                                                                                                                                                                                                                                                                                                                                                                                                                                                                                                                                                                                                                                                                                                                                                                                                                                                                                                                                                                                                                                                                                                                       |6     |hG7b0MtEbXx5QzbzE6C_VA|\n",
      "|NZnhc2sEQy3RmzKTZnqtwQ|0   |2017-01-14 21:30:33|0    |GJXCdrto3ASJOqKeVWPi6Q|5.0  |['i', '*adore*', 'travis', 'at', 'the', 'hard', \"rock's\", 'new', 'kelly', 'cardenas', 'salon!', '', \"i'm\", 'always', 'a', 'fan', 'of', 'a', 'great', 'blowout', 'and', 'no', 'stranger', 'to', 'the', 'chains', 'that', 'offer', 'this', 'service;', 'however,', 'travis', 'has', 'taken', 'the', 'flawless', 'blowout', 'to', 'a', 'whole', 'new', 'level!', '', \"travis's\", 'greets', 'you', 'with', 'his', 'perfectly', 'green', 'swoosh', 'in', 'his', 'otherwise', 'perfectly', 'styled', 'black', 'hair', 'and', 'a', 'vegas-worthy', 'rockstar', 'outfit.', '', 'next', 'comes', 'the', 'most', 'relaxing', 'and', 'incredible', 'shampoo', '--', 'where', 'you', 'get', 'a', 'full', 'head', 'message', 'that', 'could', 'cure', 'even', 'the', 'very', 'worst', 'migraine', 'in', 'minutes', '---', 'and', 'the', 'scented', 'shampoo', 'room.', '', 'travis', 'has', 'freakishly', 'strong', 'fingers', '(in', 'a', 'good', 'way)', 'and', 'use', 'the', 'perfect', 'amount', 'of', 'pressure.', '', 'that', 'was', 'superb!', '', 'then', 'starts', 'the', 'glorious', 'blowout...', 'where', 'not', 'one,', 'not', 'two,', 'but', 'three', 'people', 'were', 'involved', 'in', 'doing', 'the', 'best', 'round-brush', 'action', 'my', 'hair', 'has', 'ever', 'seen.', '', 'the', 'team', 'of', 'stylists', 'clearly', 'gets', 'along', 'extremely', 'well,', 'as', \"it's\", 'evident', 'from', 'the', 'way', 'they', 'talk', 'to', 'and', 'help', 'one', 'another', 'that', \"it's\", 'really', 'genuine', 'and', 'not', 'some', 'corporate', 'requirement.', '', 'it', 'was', 'so', 'much', 'fun', 'to', 'be', 'there!', 'next', 'travis', 'started', 'with', 'the', 'flat', 'iron.', '', 'the', 'way', 'he', 'flipped', 'his', 'wrist', 'to', 'get', 'volume', 'all', 'around', 'without', 'over-doing', 'it', 'and', 'making', 'me', 'look', 'like', 'a', 'texas', 'pagent', 'girl', 'was', 'admirable.', '', \"it's\", 'also', 'worth', 'noting', 'that', 'he', \"didn't\", 'fry', 'my', 'hair', '--', 'something', 'that', \"i've\", 'had', 'happen', 'before', 'with', 'less', 'skilled', 'stylists.', '', 'at', 'the', 'end', 'of', 'the', 'blowout', '&', 'style', 'my', 'hair', 'was', 'perfectly', 'bouncey', 'and', 'looked', 'terrific.', '', 'the', 'only', 'thing', 'better?', '', 'that', 'this', 'awesome', 'blowout', 'lasted', 'for', 'days!', 'travis,', 'i', 'will', 'see', 'you', 'every', 'single', 'time', \"i'm\", 'out', 'in', 'vegas.', '', 'you', 'make', 'me', 'feel', 'beauuuutiful!']                                                                                                                                                                                                                                                                                                                                                                                                                                                                                                                                                                                                                                                                                                                                                                                                                                                                                                                                                                                                                                                                                                                                                                                                                                                                                                                                                                                                                                                                                                                                                                                                                                                                                                                                                                                                                                                                                                                                                                                                                                                                                                                                                                                                                                                                                                                                                                                                                                                                                                                                                                                                                                                                                                                                                                                                                                                                                                                                                                                                                                                                                                                                                                                                                                     |0     |yXQM5uF2jS6es16SJzNHfg|\n",
      "|WTqjgwHlXbSFevF32_DJVw|0   |2016-11-09 20:09:03|0    |2TzJjDVDEuAW6MR5Vuc1ug|5.0  |['i', 'have', 'to', 'say', 'that', 'this', 'office', 'really', 'has', 'it', 'together,', 'they', 'are', 'so', 'organized', 'and', 'friendly!', '', 'dr.', 'j.', 'phillipp', 'is', 'a', 'great', 'dentist,', 'very', 'friendly', 'and', 'professional.', '', 'the', 'dental', 'assistants', 'that', 'helped', 'in', 'my', 'procedure', 'were', 'amazing,', 'jewel', 'and', 'bailey', 'helped', 'me', 'to', 'feel', 'comfortable!', '', 'i', \"don't\", 'have', 'dental', 'insurance,', 'but', 'they', 'have', 'this', 'insurance', 'through', 'their', 'office', 'you', 'can', 'purchase', 'for', '$80', 'something', 'a', 'year', 'and', 'this', 'gave', 'me', '25%', 'off', 'all', 'of', 'my', 'dental', 'work,', 'plus', 'they', 'helped', 'me', 'get', 'signed', 'up', 'for', 'care', 'credit', 'which', 'i', 'knew', 'nothing', 'about', 'before', 'this', 'visit!', '', 'i', 'highly', 'recommend', 'this', 'office', 'for', 'the', 'nice', 'synergy', 'the', 'whole', 'office', 'has!']                                                                                                                                                                                                                                                                                                                                                                                                                                                                                                                                                                                                                                                                                                                                                                                                                                                                                                                                                                                                                                                                                                                                                                                                                                                                                                                                                                                                                                                                                                                                                                                                                                                                                                                                                                                                                                                                                                                                                                                                                                                                                                                                                                                                                                                                                                                                                                                                                                                                                                                                                                                                                                                                                                                                                                                                                                                                                                                                                                                                                                                                                                                                                                                                                                                                                                                                                                                                                                                                                                                                                                                                                                                                                                                                                                                                                                                                                                                                                                                                                                                                                                                                                                                                                                                                                                                                                                                                                                                                                                                                                                                                                                                                                                                                                              |3     |n6-Gk65cPZL6Uz8qRm3NYw|\n",
      "|ikCg8xy5JIg_NGPx-MSIDA|0   |2018-01-09 20:56:38|0    |yi0R0Ugj_xUx_Nek0-_Qig|5.0  |['went', 'in', 'for', 'a', 'lunch.', 'steak', 'sandwich', 'was', 'delicious,', 'and', 'the', 'caesar', 'salad', 'had', 'an', 'absolutely', 'delicious', 'dressing,', 'with', 'a', 'perfect', 'amount', 'of', 'dressing,', 'and', 'distributed', 'perfectly', 'across', 'each', 'leaf.', 'i', 'know', \"i'm\", 'going', 'on', 'about', 'the', 'salad', '...', 'but', 'it', 'was', 'perfect.\\n\\ndrink', 'prices', 'were', 'pretty', 'good.\\n\\nthe', 'server,', 'dawn,', 'was', 'friendly', 'and', 'accommodating.', 'very', 'happy', 'with', 'her.\\n\\nin', 'summation,', 'a', 'great', 'pub', 'experience.', 'would', 'go', 'again!']                                                                                                                                                                                                                                                                                                                                                                                                                                                                                                                                                                                                                                                                                                                                                                                                                                                                                                                                                                                                                                                                                                                                                                                                                                                                                                                                                                                                                                                                                                                                                                                                                                                                                                                                                                                                                                                                                                                                                                                                                                                                                                                                                                                                                                                                                                                                                                                                                                                                                                                                                                                                                                                                                                                                                                                                                                                                                                                                                                                                                                                                                                                                                                                                                                                                                                                                                                                                                                                                                                                                                                                                                                                                                                                                                                                                                                                                                                                                                                                                                                                                                                                                                                                                                                                                                                                                                                                                                                                                                                                                                                                                                                                                                                                                                                                                                                                                                                                                                                                                                                                                                                                        |0     |dacAIZ6fTM6mqwW5uxkskg|\n",
      "|b1b1eb3uo-w561D0ZfCEiQ|0   |2018-01-30 23:07:38|0    |11a8sVPMUFtaC7_ABRkmtw|1.0  |['today', 'was', 'my', 'second', 'out', 'of', 'three', 'sessions', 'i', 'had', 'paid', 'for.', 'although', 'my', 'first', 'session', 'went', 'well,', 'i', 'could', 'tell', 'meredith', 'had', 'a', 'particular', 'enjoyment', 'for', 'her', 'male', 'clients', 'over', 'her', 'female.', 'however,', 'i', 'returned', 'because', 'she', 'did', 'my', 'teeth', 'fine', 'and', 'i', 'was', 'pleased', 'with', 'the', 'results.', 'when', 'i', 'went', 'in', 'today,', 'i', 'was', 'in', 'the', 'whitening', 'room', 'with', 'three', 'other', 'gentlemen.', 'my', 'appointment', 'started', 'out', 'well,', 'although,', 'being', 'a', 'person', 'who', 'is', 'in', 'the', 'service', 'industry,', 'i', 'always', 'attend', 'to', 'my', 'female', 'clientele', 'first', 'when', 'a', 'couple', 'arrives.', 'unbothered', 'by', 'those', 'signs,', 'i', 'waited', 'my', 'turn.', 'she', 'checked', 'on', 'me', 'once', 'after', 'my', 'original', '30', 'minute', 'timer', 'to', 'ask', 'if', 'i', 'was', 'ok.', 'she', 'attended', 'my', 'boyfriend', 'on', 'numerous', 'occasions,', 'as', 'well', 'as', 'the', 'other', 'men,', 'and', 'would', 'exit', 'the', 'room', 'without', 'even', 'asking', 'me', 'or', 'looking', 'to', 'see', 'if', 'i', 'had', 'any', 'irritation.', 'half', 'way', 'through,', 'another', 'woman', 'had', 'showed', 'up', 'who', 'she', 'was', 'explaining', 'the', 'deals', 'to', 'in', 'the', 'lobby.', 'while', 'she', 'admits', 'timers', 'must', 'be', 'reset', 'half', 'way', 'through', 'the', 'process,', 'she', 'reset', 'my', 'boyfriends,', 'left,', 'rest', 'the', 'gentleman', 'furthest', 'away', 'from', 'me', 'who', 'had', 'time', 'to', 'come', 'in,', 'redeem', 'his', 'deal,', 'get', 'set,', 'and', 'gave', 'his', 'timer', 'done,', 'before', 'me,', 'then', 'left,', 'and', 'at', 'this', 'point', 'my', 'time', 'was', 'at', '10', 'minutes.', 'so,', 'she', 'should', 'have', 'reset', 'it', '5', 'minutes', 'ago,', 'according', 'to', 'her.', 'while', 'i', 'sat', 'there', 'patiently', 'this', 'whole', 'time', 'with', 'major', 'pain', 'in', 'my', 'gums,', 'i', 'watched', 'the', 'time', 'until', 'the', 'lamp', 'shut', 'off.', 'not', 'only', 'had', 'she', 'reset', 'two', 'others,', 'explained', 'deals', 'to', 'other', 'guest,', 'but', 'she', 'never', 'once', 'checked', 'on', 'my', 'time.', 'when', 'my', 'light', 'turned', 'off,', 'i', 'released', 'the', 'stance', 'of', 'my', 'mouth', 'to', 'a', 'more', 'relaxed', 'state,', 'assuming', 'i', 'was', 'only', 'getting', 'a', 'thirty', 'minute', 'session', 'instead', 'of', 'the', 'usual', '45,', 'because', 'she', 'had', 'yet', 'to', 'come', 'in.', 'at', 'this', 'point,', 'the', 'teeth', 'formula', 'was', 'not', 'only', 'burning', 'the', 'gum', 'she', 'neglected', 'for', '25', 'minutes', 'now,', 'but', 'it', 'began', 'to', 'burn', 'my', 'lips.', 'i', 'began', 'squealing', 'and', 'slapping', 'my', 'chair', 'trying', 'to', 'get', 'her', 'attention', 'from', 'the', 'other', 'room', 'in', 'a', 'panic.', 'i', 'was', 'in', 'so', 'much', 'pain,', 'that', 'by', 'the', 'time', 'she', 'entered', 'the', 'room', 'i', 'was', 'already', 'out', 'of', 'my', 'chair.', 'she', 'finally', 'then', 'acknowledged', 'me,', 'and', 'asked', 'if', 'she', 'could', 'put', 'vitamin', 'e', 'on', 'my', 'gum', 'burn', '(pictured', 'below).', 'at', 'this', 'point,', 'she', 'has', 'treated', 'two', 'other', 'gums', 'burns,', 'while', 'neglecting', 'me,', 'and', 'i', 'was', 'so', 'irritated', 'that', 'i', 'had', 'to', 'suffer,', 'all', 'i', 'wanted', 'was', 'to', 'leave.', 'while', 'i', 'waited', 'for', 'my', 'boyfriend,', 'she', 'kept', 'harassing', 'me', 'about', 'the', 'issue.', 'saying,', '\"well', 'burns', 'come', 'with', 'teeth', 'whitening.\"', 'while', 'i', 'totally', 'agree,', 'and', 'under', 'justifiable', 'circumstances', 'would', 'not', 'be', 'as', 'irritate,', 'it', 'could', 'have', 'easily', 'been', 'avoid', 'if', 'she', 'had', 'checked', 'on', 'me', 'even', 'a', 'second', 'time,', 'so', 'i', 'could', 'let', 'her', 'know.', 'not', 'only', 'did', 'she', 'never', 'check', 'on', 'my', 'physical', 'health,', 'she', \"couldn't\", 'even', 'take', 'two', 'seconds', 'to', 'reset', 'the', 'timer,', 'which', 'she', 'even', 'admitted', 'to', 'me.', 'her', 'accuse', 'was', 'that', 'she', 'was', 'coming', 'in', 'to', 'do', 'it,', 'but', 'i', 'had', 'the', 'light', 'off', 'for', 'a', 'solid', 'two', 'minutes', 'before', 'i', \"couldn't\", 'stand', 'the', 'pain.', 'she', 'admitted', 'it', 'should', 'be', 'reset', 'every', '15', 'minutes,', 'which', 'means', 'for', '25', 'minutes', 'she', 'did', 'not', 'bother', 'to', 'help', 'me', 'at', 'all.', 'her', 'guest', 'in', 'the', 'lobby', 'then', 'proceeded', 'to', 'attack', 'me', 'as', 'well,', 'simply', 'because', 'i', 'wanted', 'to', 'leave', 'after', 'the', 'way', 'i', 'was', 'treated.', 'i', 'also', 'expected', 'a', 'refund', 'for', 'not', 'getting', 'a', 'complete', 'session', 'today,', 'due', 'to', 'the', 'neglect,', 'and', 'the', 'fact', 'i', \"won't\", 'be', 'returning', 'for', 'my', 'last,', 'she', 'had', 'failed', 'to', 'do', 'that.', 'she', 'was', 'even', 'screaming', 'from', 'the', 'door,', 'and', 'continued', 'to', 'until', 'my', 'boyfriend', 'and', 'i', 'were', 'down', 'the', 'steps.', 'i', 'have', 'never', 'in', 'my', 'life', 'been', 'more', 'appalled', 'by', 'a', 'grown', \"woman's\", 'behavior,', 'who', 'claims', 'to', 'be', 'in', 'the', 'business', 'for', '\"10', 'years.\"', 'admit', 'your', 'wrongs,', 'but', \"don't\", 'make', 'your', 'guest', 'feel', 'unwelcome', 'because', 'you', \"can't\", 'do', 'you', 'job', 'properly.']|7     |ssoyf2_x0EQMed6fgHeMyQ|\n",
      "+----------------------+----+-------------------+-----+----------------------+-----+---------------------------------------------------------------------------------------------------------------------------------------------------------------------------------------------------------------------------------------------------------------------------------------------------------------------------------------------------------------------------------------------------------------------------------------------------------------------------------------------------------------------------------------------------------------------------------------------------------------------------------------------------------------------------------------------------------------------------------------------------------------------------------------------------------------------------------------------------------------------------------------------------------------------------------------------------------------------------------------------------------------------------------------------------------------------------------------------------------------------------------------------------------------------------------------------------------------------------------------------------------------------------------------------------------------------------------------------------------------------------------------------------------------------------------------------------------------------------------------------------------------------------------------------------------------------------------------------------------------------------------------------------------------------------------------------------------------------------------------------------------------------------------------------------------------------------------------------------------------------------------------------------------------------------------------------------------------------------------------------------------------------------------------------------------------------------------------------------------------------------------------------------------------------------------------------------------------------------------------------------------------------------------------------------------------------------------------------------------------------------------------------------------------------------------------------------------------------------------------------------------------------------------------------------------------------------------------------------------------------------------------------------------------------------------------------------------------------------------------------------------------------------------------------------------------------------------------------------------------------------------------------------------------------------------------------------------------------------------------------------------------------------------------------------------------------------------------------------------------------------------------------------------------------------------------------------------------------------------------------------------------------------------------------------------------------------------------------------------------------------------------------------------------------------------------------------------------------------------------------------------------------------------------------------------------------------------------------------------------------------------------------------------------------------------------------------------------------------------------------------------------------------------------------------------------------------------------------------------------------------------------------------------------------------------------------------------------------------------------------------------------------------------------------------------------------------------------------------------------------------------------------------------------------------------------------------------------------------------------------------------------------------------------------------------------------------------------------------------------------------------------------------------------------------------------------------------------------------------------------------------------------------------------------------------------------------------------------------------------------------------------------------------------------------------------------------------------------------------------------------------------------------------------------------------------------------------------------------------------------------------------------------------------------------------------------------------------------------------------------------------------------------------------------------------------------------------------------------------------------------------------------------------------------------------------------------------------------------------------------------------------------------------------------------------------------------------------------------------------------------------------------------------------------------------------------------------------------------------------------------------------------------------------------------------------------------------------------------------------------------------------------------------------------------------------------------------------------------------------------------------+------+----------------------+\n",
      "only showing top 5 rows\n",
      "\n"
     ]
    }
   ],
   "source": [
    "start_time = time.time()\n",
    "\n",
    "from pyspark.sql.functions import col, udf\n",
    "from pyspark.sql.types import StringType\n",
    "\n",
    "# use udf to define a row-at-a-time udf\n",
    "def preprocess(line):\n",
    "    # lowercase transformation\n",
    "    # splitting into tokens/words\n",
    "    tokens = line.lower().split(' ')\n",
    "    tokens = [token.strip() for token in tokens]\n",
    "    return str(tokens)\n",
    "\n",
    "# count the number of friends per user and add the value as a new column\n",
    "tok = udf(preprocess, StringType())\n",
    "pr_reviews = reviews.withColumn(\"text\", tok(col(\"text\")))\n",
    "\n",
    "end_time = time.time()\n",
    "    \n",
    "print(\"\\nThe evaluation took: {:3.3f} seconds\".format(end_time - start_time))\n",
    "\n",
    "# print first three rows\n",
    "pr_reviews.show(5, False)"
   ]
  },
  {
   "cell_type": "markdown",
   "metadata": {},
   "source": [
    "### Experiment 3: "
   ]
  },
  {
   "cell_type": "code",
   "execution_count": null,
   "metadata": {},
   "outputs": [],
   "source": []
  },
  {
   "cell_type": "markdown",
   "metadata": {},
   "source": [
    "## Shutdown Session"
   ]
  },
  {
   "cell_type": "code",
   "execution_count": 25,
   "metadata": {},
   "outputs": [],
   "source": [
    "# release the cores for another application!\n",
    "spark.stop()\n",
    "sc.stop()"
   ]
  },
  {
   "cell_type": "code",
   "execution_count": null,
   "metadata": {},
   "outputs": [],
   "source": []
  }
 ],
 "metadata": {
  "kernelspec": {
   "display_name": "Python 3",
   "language": "python",
   "name": "python3"
  },
  "language_info": {
   "codemirror_mode": {
    "name": "ipython",
    "version": 3
   },
   "file_extension": ".py",
   "mimetype": "text/x-python",
   "name": "python",
   "nbconvert_exporter": "python",
   "pygments_lexer": "ipython3",
   "version": "3.7.3"
  }
 },
 "nbformat": 4,
 "nbformat_minor": 2
}
